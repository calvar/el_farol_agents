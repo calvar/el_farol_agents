{
 "cells": [
  {
   "cell_type": "code",
   "execution_count": 22,
   "id": "a68fde32-aefd-4c49-8b24-cae69dd4bc06",
   "metadata": {},
   "outputs": [],
   "source": [
    "import numpy as np\n",
    "import pandas as pd\n",
    "import matplotlib.pyplot as plt\n",
    "import seaborn as sns\n",
    "from mpl_toolkits.mplot3d import Axes3D\n",
    "\n",
    "sns.set(font_scale=1.3)"
   ]
  },
  {
   "cell_type": "markdown",
   "id": "4124271e-fdbe-4625-94c9-e7f9ab69844c",
   "metadata": {},
   "source": [
    "## Load data"
   ]
  },
  {
   "cell_type": "code",
   "execution_count": 2,
   "id": "e9c92d01-4d0d-4153-8225-fabfa252b721",
   "metadata": {},
   "outputs": [
    {
     "data": {
      "text/html": [
       "<div>\n",
       "<style scoped>\n",
       "    .dataframe tbody tr th:only-of-type {\n",
       "        vertical-align: middle;\n",
       "    }\n",
       "\n",
       "    .dataframe tbody tr th {\n",
       "        vertical-align: top;\n",
       "    }\n",
       "\n",
       "    .dataframe thead th {\n",
       "        text-align: right;\n",
       "    }\n",
       "</style>\n",
       "<table border=\"1\" class=\"dataframe\">\n",
       "  <thead>\n",
       "    <tr style=\"text-align: right;\">\n",
       "      <th></th>\n",
       "      <th>efficiency</th>\n",
       "      <th>inequality</th>\n",
       "      <th>n_efficiency</th>\n",
       "      <th>n_inequality</th>\n",
       "      <th>entropy</th>\n",
       "      <th>frequency</th>\n",
       "      <th>info_per_agent</th>\n",
       "    </tr>\n",
       "  </thead>\n",
       "  <tbody>\n",
       "    <tr>\n",
       "      <th>0</th>\n",
       "      <td>121.81250</td>\n",
       "      <td>121.562629</td>\n",
       "      <td>0.125000</td>\n",
       "      <td>0.124744</td>\n",
       "      <td>0.250000</td>\n",
       "      <td>0.500000</td>\n",
       "      <td>0.50</td>\n",
       "    </tr>\n",
       "    <tr>\n",
       "      <th>1</th>\n",
       "      <td>-0.18750</td>\n",
       "      <td>0.272431</td>\n",
       "      <td>-0.093750</td>\n",
       "      <td>0.136216</td>\n",
       "      <td>0.000000</td>\n",
       "      <td>1.000000</td>\n",
       "      <td>0.00</td>\n",
       "    </tr>\n",
       "    <tr>\n",
       "      <th>2</th>\n",
       "      <td>162.20875</td>\n",
       "      <td>114.787375</td>\n",
       "      <td>0.124904</td>\n",
       "      <td>0.088388</td>\n",
       "      <td>0.396205</td>\n",
       "      <td>0.333333</td>\n",
       "      <td>1.50</td>\n",
       "    </tr>\n",
       "    <tr>\n",
       "      <th>3</th>\n",
       "      <td>-0.31250</td>\n",
       "      <td>0.369755</td>\n",
       "      <td>-0.104167</td>\n",
       "      <td>0.123252</td>\n",
       "      <td>0.000000</td>\n",
       "      <td>1.000000</td>\n",
       "      <td>0.00</td>\n",
       "    </tr>\n",
       "    <tr>\n",
       "      <th>4</th>\n",
       "      <td>182.34375</td>\n",
       "      <td>105.276931</td>\n",
       "      <td>0.187019</td>\n",
       "      <td>0.107976</td>\n",
       "      <td>0.250000</td>\n",
       "      <td>0.500000</td>\n",
       "      <td>0.75</td>\n",
       "    </tr>\n",
       "    <tr>\n",
       "      <th>...</th>\n",
       "      <td>...</td>\n",
       "      <td>...</td>\n",
       "      <td>...</td>\n",
       "      <td>...</td>\n",
       "      <td>...</td>\n",
       "      <td>...</td>\n",
       "      <td>...</td>\n",
       "    </tr>\n",
       "    <tr>\n",
       "      <th>596</th>\n",
       "      <td>121.50000</td>\n",
       "      <td>0.192033</td>\n",
       "      <td>0.249487</td>\n",
       "      <td>0.000394</td>\n",
       "      <td>0.500000</td>\n",
       "      <td>0.250000</td>\n",
       "      <td>2.25</td>\n",
       "    </tr>\n",
       "    <tr>\n",
       "      <th>597</th>\n",
       "      <td>121.90625</td>\n",
       "      <td>121.906266</td>\n",
       "      <td>0.124968</td>\n",
       "      <td>0.124968</td>\n",
       "      <td>0.250000</td>\n",
       "      <td>0.500000</td>\n",
       "      <td>0.50</td>\n",
       "    </tr>\n",
       "    <tr>\n",
       "      <th>598</th>\n",
       "      <td>121.12500</td>\n",
       "      <td>121.750160</td>\n",
       "      <td>0.124550</td>\n",
       "      <td>0.125193</td>\n",
       "      <td>0.250000</td>\n",
       "      <td>0.500000</td>\n",
       "      <td>0.50</td>\n",
       "    </tr>\n",
       "    <tr>\n",
       "      <th>599</th>\n",
       "      <td>60.93750</td>\n",
       "      <td>105.113833</td>\n",
       "      <td>0.062693</td>\n",
       "      <td>0.108142</td>\n",
       "      <td>0.250000</td>\n",
       "      <td>0.500000</td>\n",
       "      <td>0.25</td>\n",
       "    </tr>\n",
       "    <tr>\n",
       "      <th>600</th>\n",
       "      <td>121.65625</td>\n",
       "      <td>211.147819</td>\n",
       "      <td>0.062404</td>\n",
       "      <td>0.108309</td>\n",
       "      <td>0.000000</td>\n",
       "      <td>1.000000</td>\n",
       "      <td>0.00</td>\n",
       "    </tr>\n",
       "  </tbody>\n",
       "</table>\n",
       "<p>601 rows × 7 columns</p>\n",
       "</div>"
      ],
      "text/plain": [
       "     efficiency  inequality  n_efficiency  n_inequality   entropy  frequency  \\\n",
       "0     121.81250  121.562629      0.125000      0.124744  0.250000   0.500000   \n",
       "1      -0.18750    0.272431     -0.093750      0.136216  0.000000   1.000000   \n",
       "2     162.20875  114.787375      0.124904      0.088388  0.396205   0.333333   \n",
       "3      -0.31250    0.369755     -0.104167      0.123252  0.000000   1.000000   \n",
       "4     182.34375  105.276931      0.187019      0.107976  0.250000   0.500000   \n",
       "..          ...         ...           ...           ...       ...        ...   \n",
       "596   121.50000    0.192033      0.249487      0.000394  0.500000   0.250000   \n",
       "597   121.90625  121.906266      0.124968      0.124968  0.250000   0.500000   \n",
       "598   121.12500  121.750160      0.124550      0.125193  0.250000   0.500000   \n",
       "599    60.93750  105.113833      0.062693      0.108142  0.250000   0.500000   \n",
       "600   121.65625  211.147819      0.062404      0.108309  0.000000   1.000000   \n",
       "\n",
       "     info_per_agent  \n",
       "0              0.50  \n",
       "1              0.00  \n",
       "2              1.50  \n",
       "3              0.00  \n",
       "4              0.75  \n",
       "..              ...  \n",
       "596            2.25  \n",
       "597            0.50  \n",
       "598            0.50  \n",
       "599            0.25  \n",
       "600            0.00  \n",
       "\n",
       "[601 rows x 7 columns]"
      ]
     },
     "execution_count": 2,
     "metadata": {},
     "output_type": "execute_result"
    }
   ],
   "source": [
    "df = pd.read_table(\"simulation_params_p4.dat\", sep=\"\\s+\", header=None, names=['efficiency','inequality','n_efficiency','n_inequality','entropy','frequency','info_per_agent'])\n",
    "df"
   ]
  },
  {
   "cell_type": "code",
   "execution_count": 3,
   "id": "82596042-ec2e-496b-96e4-25646c5a497f",
   "metadata": {},
   "outputs": [
    {
     "data": {
      "text/plain": [
       "count    601.000000\n",
       "mean     112.973042\n",
       "std       84.536382\n",
       "min       -1.375000\n",
       "25%        0.250000\n",
       "50%      121.625000\n",
       "75%      170.343750\n",
       "max      243.812500\n",
       "Name: efficiency, dtype: float64"
      ]
     },
     "execution_count": 3,
     "metadata": {},
     "output_type": "execute_result"
    }
   ],
   "source": [
    "df['efficiency'].describe()"
   ]
  },
  {
   "cell_type": "code",
   "execution_count": 4,
   "id": "254210c5-20ee-4e47-9816-25f03792ad3b",
   "metadata": {},
   "outputs": [],
   "source": [
    "#data_f = pd.read_csv(\"data/MFP_4medidas.csv\")\n",
    "#data_f.head()"
   ]
  },
  {
   "cell_type": "code",
   "execution_count": 5,
   "id": "6babe9ff-f901-457f-9871-808194c2e971",
   "metadata": {},
   "outputs": [],
   "source": [
    "#df = data_f[['efficiency','entropy','attendance','inequality']]"
   ]
  },
  {
   "cell_type": "markdown",
   "id": "fff418e8-02cc-44ab-a3bc-8a2409490f01",
   "metadata": {},
   "source": [
    "## Plot data"
   ]
  },
  {
   "cell_type": "code",
   "execution_count": 6,
   "id": "0a51708a-15f4-4d78-957b-2fa875f71299",
   "metadata": {},
   "outputs": [
    {
     "data": {
      "text/plain": [
       "<Axes: xlabel='n_efficiency', ylabel='n_inequality'>"
      ]
     },
     "execution_count": 6,
     "metadata": {},
     "output_type": "execute_result"
    },
    {
     "data": {
      "image/png": "[encoded data removed]",
      "text/plain": [
       "<Figure size 600x600 with 1 Axes>"
      ]
     },
     "metadata": {},
     "output_type": "display_data"
    }
   ],
   "source": [
    "fig0, ax = plt.subplots(figsize=(6,6))\n",
    "sns.scatterplot(data=df, ax=ax, x='n_efficiency', y='n_inequality')"
   ]
  },
  {
   "cell_type": "markdown",
   "id": "c7c44ba7-4c10-477a-9cbf-f555a1cb420c",
   "metadata": {},
   "source": [
    "## Standardize data"
   ]
  },
  {
   "cell_type": "code",
   "execution_count": 7,
   "id": "0ffaa220-2944-4c78-8e52-d9b01ee803ec",
   "metadata": {},
   "outputs": [
    {
     "data": {
      "text/html": [
       "<div>\n",
       "<style scoped>\n",
       "    .dataframe tbody tr th:only-of-type {\n",
       "        vertical-align: middle;\n",
       "    }\n",
       "\n",
       "    .dataframe tbody tr th {\n",
       "        vertical-align: top;\n",
       "    }\n",
       "\n",
       "    .dataframe thead th {\n",
       "        text-align: right;\n",
       "    }\n",
       "</style>\n",
       "<table border=\"1\" class=\"dataframe\">\n",
       "  <thead>\n",
       "    <tr style=\"text-align: right;\">\n",
       "      <th></th>\n",
       "      <th>n_efficiency</th>\n",
       "      <th>n_inequality</th>\n",
       "      <th>entropy</th>\n",
       "      <th>info_per_agent</th>\n",
       "    </tr>\n",
       "  </thead>\n",
       "  <tbody>\n",
       "    <tr>\n",
       "      <th>0</th>\n",
       "      <td>0.447609</td>\n",
       "      <td>0.577368</td>\n",
       "      <td>0.319918</td>\n",
       "      <td>-0.106802</td>\n",
       "    </tr>\n",
       "    <tr>\n",
       "      <th>1</th>\n",
       "      <td>-1.573949</td>\n",
       "      <td>0.904331</td>\n",
       "      <td>-0.929723</td>\n",
       "      <td>-0.742326</td>\n",
       "    </tr>\n",
       "    <tr>\n",
       "      <th>2</th>\n",
       "      <td>0.446719</td>\n",
       "      <td>-0.458783</td>\n",
       "      <td>1.050731</td>\n",
       "      <td>1.164246</td>\n",
       "    </tr>\n",
       "    <tr>\n",
       "      <th>3</th>\n",
       "      <td>-1.670213</td>\n",
       "      <td>0.534849</td>\n",
       "      <td>-0.929723</td>\n",
       "      <td>-0.742326</td>\n",
       "    </tr>\n",
       "    <tr>\n",
       "      <th>4</th>\n",
       "      <td>1.020753</td>\n",
       "      <td>0.099488</td>\n",
       "      <td>0.319918</td>\n",
       "      <td>0.210960</td>\n",
       "    </tr>\n",
       "  </tbody>\n",
       "</table>\n",
       "</div>"
      ],
      "text/plain": [
       "   n_efficiency  n_inequality   entropy  info_per_agent\n",
       "0      0.447609      0.577368  0.319918       -0.106802\n",
       "1     -1.573949      0.904331 -0.929723       -0.742326\n",
       "2      0.446719     -0.458783  1.050731        1.164246\n",
       "3     -1.670213      0.534849 -0.929723       -0.742326\n",
       "4      1.020753      0.099488  0.319918        0.210960"
      ]
     },
     "execution_count": 7,
     "metadata": {},
     "output_type": "execute_result"
    }
   ],
   "source": [
    "df_std = df[['n_efficiency','n_inequality','entropy','info_per_agent']].apply(lambda x: x-np.mean(x))\n",
    "df_std = df_std.apply(lambda x: x/np.std(x))\n",
    "df_std.head()"
   ]
  },
  {
   "cell_type": "markdown",
   "id": "7b1a7a8e-e1a0-4134-af43-a0357151a428",
   "metadata": {},
   "source": [
    "## t-sne"
   ]
  },
  {
   "cell_type": "code",
   "execution_count": 8,
   "id": "2ac753c2-398b-411c-b3d9-10258264e887",
   "metadata": {},
   "outputs": [
    {
     "data": {
      "text/plain": [
       "(601, 4)"
      ]
     },
     "execution_count": 8,
     "metadata": {},
     "output_type": "execute_result"
    }
   ],
   "source": [
    "X_dat = df_std.to_numpy()\n",
    "X_dat.shape"
   ]
  },
  {
   "cell_type": "code",
   "execution_count": 9,
   "id": "d519b09f-bb74-4441-9f59-623e9e28c875",
   "metadata": {},
   "outputs": [],
   "source": [
    "from sklearn.manifold import TSNE"
   ]
  },
  {
   "cell_type": "code",
   "execution_count": 10,
   "id": "ea141610-ffc9-4223-961d-47d89dde16df",
   "metadata": {},
   "outputs": [
    {
     "data": {
      "text/plain": [
       "(601, 3)"
      ]
     },
     "execution_count": 10,
     "metadata": {},
     "output_type": "execute_result"
    }
   ],
   "source": [
    "# Get t-sne embeding with 3 dimensions\n",
    "n_components = 3\n",
    "tsne = TSNE(n_components,perplexity=100)\n",
    "tsne_result = tsne.fit_transform(X_dat)\n",
    "tsne_result.shape"
   ]
  },
  {
   "cell_type": "markdown",
   "id": "c7137cbc-00c2-4ddb-b5e9-401b6d287c90",
   "metadata": {},
   "source": [
    "## Plot results"
   ]
  },
  {
   "cell_type": "code",
   "execution_count": 11,
   "id": "bee9234b-84a7-4ae5-a62e-5b64bacae78a",
   "metadata": {},
   "outputs": [
    {
     "data": {
      "text/html": [
       "<div>\n",
       "<style scoped>\n",
       "    .dataframe tbody tr th:only-of-type {\n",
       "        vertical-align: middle;\n",
       "    }\n",
       "\n",
       "    .dataframe tbody tr th {\n",
       "        vertical-align: top;\n",
       "    }\n",
       "\n",
       "    .dataframe thead th {\n",
       "        text-align: right;\n",
       "    }\n",
       "</style>\n",
       "<table border=\"1\" class=\"dataframe\">\n",
       "  <thead>\n",
       "    <tr style=\"text-align: right;\">\n",
       "      <th></th>\n",
       "      <th>tsne_1</th>\n",
       "      <th>tsne_2</th>\n",
       "      <th>tsne_3</th>\n",
       "      <th>efficiency</th>\n",
       "      <th>inequality</th>\n",
       "      <th>n_efficiency</th>\n",
       "      <th>n_inequality</th>\n",
       "      <th>entropy</th>\n",
       "      <th>frequency</th>\n",
       "      <th>info_per_agent</th>\n",
       "    </tr>\n",
       "  </thead>\n",
       "  <tbody>\n",
       "    <tr>\n",
       "      <th>0</th>\n",
       "      <td>3.549155</td>\n",
       "      <td>0.993808</td>\n",
       "      <td>0.261318</td>\n",
       "      <td>121.81250</td>\n",
       "      <td>121.562629</td>\n",
       "      <td>0.125000</td>\n",
       "      <td>0.124744</td>\n",
       "      <td>0.250000</td>\n",
       "      <td>0.500000</td>\n",
       "      <td>0.50</td>\n",
       "    </tr>\n",
       "    <tr>\n",
       "      <th>1</th>\n",
       "      <td>-7.339237</td>\n",
       "      <td>-1.409244</td>\n",
       "      <td>2.880185</td>\n",
       "      <td>-0.18750</td>\n",
       "      <td>0.272431</td>\n",
       "      <td>-0.093750</td>\n",
       "      <td>0.136216</td>\n",
       "      <td>0.000000</td>\n",
       "      <td>1.000000</td>\n",
       "      <td>0.00</td>\n",
       "    </tr>\n",
       "    <tr>\n",
       "      <th>2</th>\n",
       "      <td>9.751722</td>\n",
       "      <td>0.250179</td>\n",
       "      <td>-0.740986</td>\n",
       "      <td>162.20875</td>\n",
       "      <td>114.787375</td>\n",
       "      <td>0.124904</td>\n",
       "      <td>0.088388</td>\n",
       "      <td>0.396205</td>\n",
       "      <td>0.333333</td>\n",
       "      <td>1.50</td>\n",
       "    </tr>\n",
       "    <tr>\n",
       "      <th>3</th>\n",
       "      <td>-6.908031</td>\n",
       "      <td>-1.655328</td>\n",
       "      <td>2.618329</td>\n",
       "      <td>-0.31250</td>\n",
       "      <td>0.369755</td>\n",
       "      <td>-0.104167</td>\n",
       "      <td>0.123252</td>\n",
       "      <td>0.000000</td>\n",
       "      <td>1.000000</td>\n",
       "      <td>0.00</td>\n",
       "    </tr>\n",
       "    <tr>\n",
       "      <th>4</th>\n",
       "      <td>4.772564</td>\n",
       "      <td>1.974560</td>\n",
       "      <td>-0.779304</td>\n",
       "      <td>182.34375</td>\n",
       "      <td>105.276931</td>\n",
       "      <td>0.187019</td>\n",
       "      <td>0.107976</td>\n",
       "      <td>0.250000</td>\n",
       "      <td>0.500000</td>\n",
       "      <td>0.75</td>\n",
       "    </tr>\n",
       "  </tbody>\n",
       "</table>\n",
       "</div>"
      ],
      "text/plain": [
       "     tsne_1    tsne_2    tsne_3  efficiency  inequality  n_efficiency  \\\n",
       "0  3.549155  0.993808  0.261318   121.81250  121.562629      0.125000   \n",
       "1 -7.339237 -1.409244  2.880185    -0.18750    0.272431     -0.093750   \n",
       "2  9.751722  0.250179 -0.740986   162.20875  114.787375      0.124904   \n",
       "3 -6.908031 -1.655328  2.618329    -0.31250    0.369755     -0.104167   \n",
       "4  4.772564  1.974560 -0.779304   182.34375  105.276931      0.187019   \n",
       "\n",
       "   n_inequality   entropy  frequency  info_per_agent  \n",
       "0      0.124744  0.250000   0.500000            0.50  \n",
       "1      0.136216  0.000000   1.000000            0.00  \n",
       "2      0.088388  0.396205   0.333333            1.50  \n",
       "3      0.123252  0.000000   1.000000            0.00  \n",
       "4      0.107976  0.250000   0.500000            0.75  "
      ]
     },
     "execution_count": 11,
     "metadata": {},
     "output_type": "execute_result"
    }
   ],
   "source": [
    "df_tsne_res = pd.DataFrame({'tsne_1': tsne_result[:,0], 'tsne_2': tsne_result[:,1], 'tsne_3': tsne_result[:,2]})\n",
    "df_tsne_res = df_tsne_res.join(df)\n",
    "df_tsne_res.head()"
   ]
  },
  {
   "cell_type": "code",
   "execution_count": 12,
   "id": "a7b0a1e6-2731-4852-8367-f7287d68a3f0",
   "metadata": {},
   "outputs": [],
   "source": [
    "##2D plots\n",
    "#fig1, axis = plt.subplots(nrows=2, ncols=2, figsize=(16,16))\n",
    "#sns.scatterplot(data=df_tsne_res, ax=axis[0][0], x='tsne_1', y='tsne_2', hue='efficiency', palette='copper')\n",
    "#sns.scatterplot(data=df_tsne_res, ax=axis[0][1], x='tsne_1', y='tsne_2', hue='entropy', palette='copper')\n",
    "#sns.scatterplot(data=df_tsne_res, ax=axis[1][0], x='tsne_1', y='tsne_2', hue='inequality', palette='copper')\n",
    "#sns.scatterplot(data=df_tsne_res, ax=axis[1][1], x='tsne_1', y='tsne_2', hue='info_per_agent', palette='copper')"
   ]
  },
  {
   "cell_type": "code",
   "execution_count": 27,
   "id": "b8a51a3e-4577-4079-a5ef-a2cc8507dfaf",
   "metadata": {},
   "outputs": [
    {
     "data": {
      "text/plain": [
       "<Figure size 1600x1600 with 0 Axes>"
      ]
     },
     "metadata": {},
     "output_type": "display_data"
    }
   ],
   "source": [
    "#3D plots\n",
    "fig1 = plt.figure(figsize=(16,16))\n",
    "ax = Axes3D(fig1)\n",
    "\n",
    "sc = ax.scatter(df_tsne_res.tsne_1,df_tsne_res.tsne_2,df_tsne_res.tsne_3)\n",
    "ax.set_xlabel('tsne_1')\n",
    "ax.set_xlabel('tsne_2')\n",
    "ax.set_xlabel('tsne_3')\n",
    "\n",
    "plt.show()"
   ]
  }
 ],
 "metadata": {
  "kernelspec": {
   "display_name": "Python 3 (ipykernel)",
   "language": "python",
   "name": "python3"
  },
  "language_info": {
   "codemirror_mode": {
    "name": "ipython",
    "version": 3
   },
   "file_extension": ".py",
   "mimetype": "text/x-python",
   "name": "python",
   "nbconvert_exporter": "python",
   "pygments_lexer": "ipython3",
   "version": "3.10.12"
  }
 },
 "nbformat": 4,
 "nbformat_minor": 5
}
