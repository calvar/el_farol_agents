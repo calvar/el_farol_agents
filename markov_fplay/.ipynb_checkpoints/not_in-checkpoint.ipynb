{
 "cells": [
  {
   "cell_type": "code",
   "execution_count": 5,
   "id": "93369457-dbfc-4bbb-8d65-181db18db5e2",
   "metadata": {},
   "outputs": [],
   "source": [
    "import numpy as np"
   ]
  },
  {
   "cell_type": "code",
   "execution_count": 6,
   "id": "0c1d0c26-cf98-43e3-aa46-0fc8dce31ea9",
   "metadata": {},
   "outputs": [],
   "source": [
    "infile1 = 'simulation_params_p4.dat'\n",
    "infile2 = 'simulation_params_p2.dat'"
   ]
  },
  {
   "cell_type": "code",
   "execution_count": 9,
   "id": "1f6a09fb-24e4-4df9-b1e1-c9d2bdb8d647",
   "metadata": {},
   "outputs": [],
   "source": [
    "eff_idx = 1\n",
    "inq_idx = 2\n",
    "neff_idx = 3\n",
    "ninq_idx = 4\n",
    "ent_idx = 5\n",
    "frq_idx = 6"
   ]
  },
  {
   "cell_type": "code",
   "execution_count": 10,
   "id": "798c4d77-c441-41c7-b901-671d139c94a8",
   "metadata": {},
   "outputs": [],
   "source": [
    "data1 = []\n",
    "with open(infile1, \"r\") as inf1:\n",
    "    for line in inf1:\n",
    "        v = list(map(float, line.split()))\n",
    "        data1.append(v)\n",
    "data1 = np.array(data1)"
   ]
  },
  {
   "cell_type": "code",
   "execution_count": 11,
   "id": "69be0104-aa95-4d56-813d-633989d6f7ca",
   "metadata": {},
   "outputs": [],
   "source": [
    "data2 = []\n",
    "with open(infile2, \"r\") as inf2:\n",
    "    for line in inf2:\n",
    "        v = list(map(float, line.split()))\n",
    "        data2.append(v)\n",
    "data2 = np.array(data2)"
   ]
  },
  {
   "cell_type": "code",
   "execution_count": null,
   "id": "01dae2fc-1069-44a7-b556-e5340319a75a",
   "metadata": {},
   "outputs": [],
   "source": []
  }
 ],
 "metadata": {
  "kernelspec": {
   "display_name": "venv",
   "language": "python",
   "name": "venv"
  },
  "language_info": {
   "codemirror_mode": {
    "name": "ipython",
    "version": 3
   },
   "file_extension": ".py",
   "mimetype": "text/x-python",
   "name": "python",
   "nbconvert_exporter": "python",
   "pygments_lexer": "ipython3",
   "version": "3.10.12"
  }
 },
 "nbformat": 4,
 "nbformat_minor": 5
}
