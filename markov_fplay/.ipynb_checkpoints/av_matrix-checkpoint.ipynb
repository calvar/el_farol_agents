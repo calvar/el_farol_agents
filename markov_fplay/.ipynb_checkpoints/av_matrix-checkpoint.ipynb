{
 "cells": [
  {
   "cell_type": "code",
   "execution_count": 15,
   "id": "917d84c0-089c-4b3d-8b72-b43e23dc07e3",
   "metadata": {},
   "outputs": [],
   "source": [
    "import numpy as np\n",
    "import matplotlib.pyplot as plt"
   ]
  },
  {
   "cell_type": "code",
   "execution_count": 16,
   "id": "f05db8ba-a0bb-475e-9c28-5abb67ca0e51",
   "metadata": {},
   "outputs": [],
   "source": [
    "#Read the transition matrices of agents in the same experiment\n",
    "dim = 2**4\n",
    "time = 500\n",
    "mats = []\n",
    "for i in range(4):\n",
    "    with open(\"data/matrix_evol_{0:d}_0030.dat\".format(i), \"r\") as mfile:\n",
    "        for line in mfile:\n",
    "            v = list(map(float,line.split()))\n",
    "            assert len(v)-1 == dim**2\n",
    "            if v[0] == time:\n",
    "                mats.append(np.array(v[1:]).reshape(dim,dim))   \n",
    "#print(mats)"
   ]
  },
  {
   "cell_type": "code",
   "execution_count": 12,
   "id": "b9039eea-d239-4f2a-be4f-d0d5af9068b3",
   "metadata": {},
   "outputs": [],
   "source": [
    "av_mat = np.zeros((dim,dim))\n",
    "for i in range(4):\n",
    "    av_mat += mats[i]\n",
    "av_mat /= 4\n",
    "#print(av_mat)"
   ]
  },
  {
   "cell_type": "code",
   "execution_count": 13,
   "id": "12936f6a-528c-462b-8476-4be9dbfbd6ec",
   "metadata": {},
   "outputs": [],
   "source": [
    "var_mat = np.zeros((dim,dim))\n",
    "for i in range(4):\n",
    "    var_mat += (mats[i]-av_mat)**2\n",
    "var_mat /= (4-1)\n",
    "std_mat = np.sqrt(var_mat)\n",
    "#print(std_mat)"
   ]
  },
  {
   "cell_type": "code",
   "execution_count": 23,
   "id": "b5cc4556-cc3c-432d-8346-857803fdbb40",
   "metadata": {},
   "outputs": [
    {
     "data": {
      "text/plain": [
       "<matplotlib.image.AxesImage at 0x7599ec7cc280>"
      ]
     },
     "execution_count": 23,
     "metadata": {},
     "output_type": "execute_result"
    },
    {
     "data": {
      "image/png": "[encoded data removed]",
      "text/plain": [
       "<Figure size 600x600 with 2 Axes>"
      ]
     },
     "metadata": {},
     "output_type": "display_data"
    }
   ],
   "source": [
    "fig = plt.figure(figsize=(6,6))\n",
    "fig.add_subplot(1,2,1)\n",
    "plt.imshow(av_mat, cmap='hot')\n",
    "fig.add_subplot(1,2,2)\n",
    "plt.imshow(std_mat)"
   ]
  },
  {
   "cell_type": "code",
   "execution_count": null,
   "id": "20623e61-91df-4ad6-b568-3305eb735766",
   "metadata": {},
   "outputs": [],
   "source": []
  }
 ],
 "metadata": {
  "kernelspec": {
   "display_name": "venv",
   "language": "python",
   "name": "venv"
  },
  "language_info": {
   "codemirror_mode": {
    "name": "ipython",
    "version": 3
   },
   "file_extension": ".py",
   "mimetype": "text/x-python",
   "name": "python",
   "nbconvert_exporter": "python",
   "pygments_lexer": "ipython3",
   "version": "3.10.12"
  }
 },
 "nbformat": 4,
 "nbformat_minor": 5
}
