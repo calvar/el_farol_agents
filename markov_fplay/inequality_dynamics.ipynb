{
 "cells": [
  {
   "cell_type": "code",
   "execution_count": 1,
   "id": "cf6dcba6-d4b5-4724-9e65-a6541696f11e",
   "metadata": {},
   "outputs": [],
   "source": [
    "import numpy as np\n",
    "import pandas as pd\n",
    "import matplotlib.pyplot as plt\n",
    "import seaborn as sns\n",
    "from mpl_toolkits.mplot3d import Axes3D\n",
    "\n",
    "\n",
    "from sklearn.preprocessing import MinMaxScaler\n",
    "from sklearn.cluster import AffinityPropagation\n",
    "\n",
    "#plt.style.use('tableau-colorblind10')\n",
    "sns.set(font_scale=1.3)"
   ]
  },
  {
   "cell_type": "code",
   "execution_count": 2,
   "id": "a7deaca3-3126-4b0b-845c-3d6fa843cb31",
   "metadata": {},
   "outputs": [],
   "source": [
    "folder = 'data_p'\n",
    "outfile = 'simulation_params_N4new.dat'\n",
    "maxN = 3001"
   ]
  },
  {
   "cell_type": "code",
   "execution_count": 3,
   "id": "6d8fafc5-ce67-4645-880d-8947ff60ffec",
   "metadata": {},
   "outputs": [
    {
     "data": {
      "text/plain": [
       "(601, 2001, 4)"
      ]
     },
     "execution_count": 3,
     "metadata": {},
     "output_type": "execute_result"
    }
   ],
   "source": [
    "#Read earnings sequences\n",
    "earn_data = []\n",
    "for n in range(0,maxN,5):\n",
    "    earnings = []\n",
    "    with open(folder+\"/earnings_evol_{0:04d}.dat\".format(n), \"r\") as fdata:\n",
    "        for line in fdata:\n",
    "            v = list(map(int,line.split()))\n",
    "            earnings.append(v[1:])\n",
    "    earn_data.append(earnings)\n",
    "earn_data = np.array(earn_data)\n",
    "earn_data.shape"
   ]
  },
  {
   "cell_type": "code",
   "execution_count": 4,
   "id": "53790598-40aa-4158-a566-d5781f22cc81",
   "metadata": {},
   "outputs": [],
   "source": [
    "def unorm(row):\n",
    "    mx = np.abs(row).max()\n",
    "    N = len(row)\n",
    "    if mx != 0:\n",
    "        return np.array([e/(N*mx) for e in row])\n",
    "    else:\n",
    "        return row\n",
    "\n",
    "def nnorm(row):\n",
    "    N = len(row)\n",
    "    return np.array([e/N for e in row])"
   ]
  },
  {
   "cell_type": "code",
   "execution_count": 5,
   "id": "e42a1afd-89d5-4b48-835c-de98856a86fa",
   "metadata": {},
   "outputs": [
    {
     "data": {
      "text/plain": [
       "(601, 2001, 4)"
      ]
     },
     "execution_count": 5,
     "metadata": {},
     "output_type": "execute_result"
    }
   ],
   "source": [
    "# Scale utility by N\n",
    "utilities = np.array([[nnorm(e) for e in earnings] for earnings in earn_data])\n",
    "utilities.shape"
   ]
  },
  {
   "cell_type": "code",
   "execution_count": 6,
   "id": "fdedbcaf-5bae-42f6-a965-f49004ad3b59",
   "metadata": {},
   "outputs": [],
   "source": [
    "#Efficiencies\n",
    "efficiencies = [np.array([u.mean() for u in util]) for util in utilities]\n",
    "#efficiencies"
   ]
  },
  {
   "cell_type": "code",
   "execution_count": 7,
   "id": "9219b7ad-077e-4fb6-9858-d1e0a67cdc13",
   "metadata": {},
   "outputs": [],
   "source": [
    "#Inequalities\n",
    "inequalities = [np.array([u.std() for u in util]) for util in utilities]\n",
    "#inequalities"
   ]
  },
  {
   "cell_type": "code",
   "execution_count": 8,
   "id": "5f1649c9-47ea-4763-a6d1-c5c60af76907",
   "metadata": {},
   "outputs": [],
   "source": [
    "efficiencies = np.array(efficiencies)\n",
    "inequalities = np.array(inequalities)"
   ]
  },
  {
   "cell_type": "code",
   "execution_count": 9,
   "id": "dddcbebc-2ee5-44d6-9285-ad34dd857c9a",
   "metadata": {},
   "outputs": [],
   "source": [
    "def mean_amplitude(arr):\n",
    "    dif = [np.abs(arr[i+1]-arr[i]) for i in range(len(arr)-1)]\n",
    "    return np.mean(dif)\n",
    "\n",
    "def lowest_disper_n(arr, mx_win_sz):\n",
    "    minamp, minn = 1.e10, 1e10\n",
    "    for n in range(2,min(len(arr),mx_win_sz)):\n",
    "        new_arr = []\n",
    "        for i in range(len(arr)-n):\n",
    "            new_arr.append(np.mean(arr[i:i+n]))\n",
    "        amp = mean_amplitude(new_arr)\n",
    "        if amp < minamp:\n",
    "            minamp = amp\n",
    "            minn = n\n",
    "    return minn\n",
    "\n",
    "def rolling_avg(arr, mx_win_sz):\n",
    "    dif = []\n",
    "    for j in range(0,len(arr)-mx_win_sz):\n",
    "        minn = lowest_disper_n(arr[j:j+mx_win_sz],mx_win_sz)\n",
    "        dif.append(np.mean(arr[j:j+minn]))\n",
    "    return dif"
   ]
  },
  {
   "cell_type": "code",
   "execution_count": 10,
   "id": "059a5baa-b930-488b-a1db-4365ddc0c112",
   "metadata": {},
   "outputs": [
    {
     "name": "stderr",
     "output_type": "stream",
     "text": [
      "/home/carlos/Documents/Information/edgar_german/el_farol/markov_fplay/venv/lib/python3.10/site-packages/numpy/_core/fromnumeric.py:3596: RuntimeWarning: Mean of empty slice.\n",
      "  return _methods._mean(a, axis=axis, dtype=dtype,\n",
      "/home/carlos/Documents/Information/edgar_german/el_farol/markov_fplay/venv/lib/python3.10/site-packages/numpy/_core/_methods.py:138: RuntimeWarning: invalid value encountered in scalar divide\n",
      "  ret = ret.dtype.type(ret / rcount)\n"
     ]
    },
    {
     "data": {
      "image/png": "[encoded data removed]",
      "text/plain": [
       "<Figure size 640x480 with 1 Axes>"
      ]
     },
     "metadata": {},
     "output_type": "display_data"
    }
   ],
   "source": [
    "mx_win_sz = 16\n",
    "n = 345\n",
    "dif = rolling_avg(inequalities[n], mx_win_sz)\n",
    "\n",
    "fig, ax = plt.subplots(1,1)\n",
    "ax.plot(dif)\n",
    "plt.show()"
   ]
  },
  {
   "cell_type": "code",
   "execution_count": 11,
   "id": "c4f9e991-ab60-4815-afdb-8af8c88197bd",
   "metadata": {},
   "outputs": [],
   "source": [
    "import pandas as pd\n",
    "#Read data with kmeans clustering\n",
    "df = pd.read_csv(\"tsne_params.csv\")\n",
    "df_ik = df[[\"index\",\"kmeans\"]]"
   ]
  },
  {
   "cell_type": "code",
   "execution_count": 12,
   "id": "70e0f436-00f5-452a-9da4-2168b61a6de8",
   "metadata": {},
   "outputs": [
    {
     "name": "stderr",
     "output_type": "stream",
     "text": [
      "/home/carlos/Documents/Information/edgar_german/el_farol/markov_fplay/venv/lib/python3.10/site-packages/numpy/_core/fromnumeric.py:3596: RuntimeWarning: Mean of empty slice.\n",
      "  return _methods._mean(a, axis=axis, dtype=dtype,\n",
      "/home/carlos/Documents/Information/edgar_german/el_farol/markov_fplay/venv/lib/python3.10/site-packages/numpy/_core/_methods.py:138: RuntimeWarning: invalid value encountered in scalar divide\n",
      "  ret = ret.dtype.type(ret / rcount)\n"
     ]
    },
    {
     "name": "stdout",
     "output_type": "stream",
     "text": [
      "0.022784399862661574 0.02636377492036467\n",
      "0.08198515955474363 0.028185387680704346\n",
      "0.06578629290785519 0.03109817884401857\n",
      "0.032944540174855395 0.02555752877828742\n",
      "0.013282254688647216 0.01511748382506129\n",
      "0.003599052067448315 0.027676064864474697\n",
      "-0.0021587620489108227 0.012058456308142592\n"
     ]
    }
   ],
   "source": [
    "for num, cluster in df_ik.groupby(\"kmeans\"):\n",
    "    slopes = []\n",
    "    for n in cluster.index:\n",
    "        dif = rolling_avg(inequalities[n], mx_win_sz)\n",
    "        slopes.append((dif[-1]-dif[1])/(len(dif)-1))\n",
    "    print(np.mean(slopes),np.std(slopes))"
   ]
  },
  {
   "cell_type": "markdown",
   "id": "c3322857-16e4-4477-93fc-353a72d913fc",
   "metadata": {},
   "source": [
    "With 7 clusters it can be seen that the average slope measure for inequality growth coincides fairly well with the clusters."
   ]
  }
 ],
 "metadata": {
  "kernelspec": {
   "display_name": "Python 3 (ipykernel)",
   "language": "python",
   "name": "python3"
  },
  "language_info": {
   "codemirror_mode": {
    "name": "ipython",
    "version": 3
   },
   "file_extension": ".py",
   "mimetype": "text/x-python",
   "name": "python",
   "nbconvert_exporter": "python",
   "pygments_lexer": "ipython3",
   "version": "3.10.12"
  }
 },
 "nbformat": 4,
 "nbformat_minor": 5
}
