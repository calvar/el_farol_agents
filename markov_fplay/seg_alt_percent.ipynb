{
 "cells": [
  {
   "cell_type": "code",
   "execution_count": 37,
   "id": "83516b15-e591-43d9-a497-67720fb14c90",
   "metadata": {},
   "outputs": [],
   "source": [
    "from pathlib import Path \n",
    "\n",
    "import numpy as np\n",
    "import pandas as pd\n",
    "import matplotlib.pyplot as plt\n",
    "import seaborn as sns\n",
    "from mpl_toolkits.mplot3d import Axes3D"
   ]
  },
  {
   "cell_type": "code",
   "execution_count": 38,
   "id": "6f1d1639-3438-4f2d-b473-b117abc31b22",
   "metadata": {
    "scrolled": true
   },
   "outputs": [
    {
     "name": "stdout",
     "output_type": "stream",
     "text": [
      "0.3\n",
      "0.05\n",
      "0.0\n",
      "0.1\n",
      "1.0\n",
      "0.01\n",
      "0.08\n",
      "0.5\n",
      "0.7\n"
     ]
    }
   ],
   "source": [
    "folder = Path('./params/N4')\n",
    "for f in folder.iterdir():\n",
    "    print(f.name.split('C')[-1].rstrip('.dat'))"
   ]
  },
  {
   "cell_type": "code",
   "execution_count": 39,
   "id": "7cfa5837-e5b6-49b5-a93f-fadc13f27496",
   "metadata": {},
   "outputs": [
    {
     "name": "stderr",
     "output_type": "stream",
     "text": [
      "<>:10: SyntaxWarning: invalid escape sequence '\\s'\n",
      "<>:10: SyntaxWarning: invalid escape sequence '\\s'\n",
      "/tmp/ipykernel_6600/3303117902.py:10: SyntaxWarning: invalid escape sequence '\\s'\n",
      "  df = pd.read_table(f, sep=\"\\s+\", header=None, names=['efficiency','inequality','n_efficiency','n_inequality','entropy','frequency','info_per_agent','int_entropy','ineq_slope','emax_perc'])\n"
     ]
    },
    {
     "data": {
      "text/html": [
       "<div>\n",
       "<style scoped>\n",
       "    .dataframe tbody tr th:only-of-type {\n",
       "        vertical-align: middle;\n",
       "    }\n",
       "\n",
       "    .dataframe tbody tr th {\n",
       "        vertical-align: top;\n",
       "    }\n",
       "\n",
       "    .dataframe thead th {\n",
       "        text-align: right;\n",
       "    }\n",
       "</style>\n",
       "<table border=\"1\" class=\"dataframe\">\n",
       "  <thead>\n",
       "    <tr style=\"text-align: right;\">\n",
       "      <th></th>\n",
       "      <th>c</th>\n",
       "      <th>%seg</th>\n",
       "      <th>%alt</th>\n",
       "      <th>eff</th>\n",
       "      <th>ineq</th>\n",
       "      <th>eff_er</th>\n",
       "      <th>ineq_er</th>\n",
       "    </tr>\n",
       "  </thead>\n",
       "  <tbody>\n",
       "    <tr>\n",
       "      <th>2</th>\n",
       "      <td>0.0</td>\n",
       "      <td>0.0</td>\n",
       "      <td>0.0</td>\n",
       "      <td>0.057935</td>\n",
       "      <td>0.051890</td>\n",
       "      <td>0.043345</td>\n",
       "      <td>0.043254</td>\n",
       "    </tr>\n",
       "    <tr>\n",
       "      <th>5</th>\n",
       "      <td>0.01</td>\n",
       "      <td>0.0</td>\n",
       "      <td>0.0</td>\n",
       "      <td>0.102419</td>\n",
       "      <td>0.045550</td>\n",
       "      <td>0.012256</td>\n",
       "      <td>0.031228</td>\n",
       "    </tr>\n",
       "    <tr>\n",
       "      <th>1</th>\n",
       "      <td>0.05</td>\n",
       "      <td>0.0</td>\n",
       "      <td>0.0</td>\n",
       "      <td>0.109126</td>\n",
       "      <td>0.042035</td>\n",
       "      <td>0.007928</td>\n",
       "      <td>0.028492</td>\n",
       "    </tr>\n",
       "    <tr>\n",
       "      <th>6</th>\n",
       "      <td>0.08</td>\n",
       "      <td>0.0</td>\n",
       "      <td>0.0</td>\n",
       "      <td>0.111085</td>\n",
       "      <td>0.038877</td>\n",
       "      <td>0.006815</td>\n",
       "      <td>0.027786</td>\n",
       "    </tr>\n",
       "    <tr>\n",
       "      <th>3</th>\n",
       "      <td>0.1</td>\n",
       "      <td>0.0</td>\n",
       "      <td>0.0</td>\n",
       "      <td>0.111807</td>\n",
       "      <td>0.039378</td>\n",
       "      <td>0.006281</td>\n",
       "      <td>0.028241</td>\n",
       "    </tr>\n",
       "  </tbody>\n",
       "</table>\n",
       "</div>"
      ],
      "text/plain": [
       "      c  %seg  %alt       eff      ineq    eff_er   ineq_er\n",
       "2   0.0   0.0   0.0  0.057935  0.051890  0.043345  0.043254\n",
       "5  0.01   0.0   0.0  0.102419  0.045550  0.012256  0.031228\n",
       "1  0.05   0.0   0.0  0.109126  0.042035  0.007928  0.028492\n",
       "6  0.08   0.0   0.0  0.111085  0.038877  0.006815  0.027786\n",
       "3   0.1   0.0   0.0  0.111807  0.039378  0.006281  0.028241"
      ]
     },
     "execution_count": 39,
     "metadata": {},
     "output_type": "execute_result"
    }
   ],
   "source": [
    "C_list = []\n",
    "percent_seg = []\n",
    "percent_alt = []\n",
    "eff = []\n",
    "ineq = []\n",
    "eff_er = []\n",
    "ineq_er = []\n",
    "for f in folder.iterdir():\n",
    "    C = f.name.split('C')[-1].rstrip('.dat')\n",
    "    df = pd.read_table(f, sep=\"\\s+\", header=None, names=['efficiency','inequality','n_efficiency','n_inequality','entropy','frequency','info_per_agent','int_entropy','ineq_slope','emax_perc'])\n",
    "    C_list.append(C)\n",
    "    \n",
    "    mx = df['inequality'].max()\n",
    "    mn = 0.95*mx\n",
    "    df_seg = df[(df['inequality']>mn) & (df['emax_perc']>0.95)]\n",
    "    percent_seg.append(df_seg.shape[0]/df.shape[0])\n",
    "\n",
    "    mn = 0.05*mx\n",
    "    df_alt = df[(df['inequality']<mn) & (df['emax_perc']>0.95)]\n",
    "    percent_alt.append(df_alt.shape[0]/df.shape[0])\n",
    "\n",
    "    eff.append(df['efficiency'].mean())\n",
    "    ineq.append(df['inequality'].mean())\n",
    "    eff_er.append(df['efficiency'].std())\n",
    "    ineq_er.append(df['inequality'].std())\n",
    "\n",
    "df_c = pd.DataFrame({'c':C_list, '%seg':percent_seg, '%alt':percent_alt, 'eff':eff, 'ineq':ineq, 'eff_er':eff_er, 'ineq_er':ineq_er})\n",
    "df_c.c.astype('float')\n",
    "df_c.sort_values(by='c',inplace=True)\n",
    "df_c.head()"
   ]
  },
  {
   "cell_type": "code",
   "execution_count": 40,
   "id": "ddfeff5d-cbfe-414c-9222-d37caa162866",
   "metadata": {},
   "outputs": [
    {
     "data": {
      "text/plain": [
       "'0.1'"
      ]
     },
     "execution_count": 40,
     "metadata": {},
     "output_type": "execute_result"
    }
   ],
   "source": [
    "df_c['c'].iloc[df_c['eff'].argmax()]"
   ]
  },
  {
   "cell_type": "code",
   "execution_count": 41,
   "id": "e2bdaff0-2f8b-4cf7-9e64-ba1bf496403e",
   "metadata": {},
   "outputs": [
    {
     "data": {
      "text/plain": [
       "<Axes: xlabel='c', ylabel='%seg'>"
      ]
     },
     "execution_count": 41,
     "metadata": {},
     "output_type": "execute_result"
    },
    {
     "data": {
      "image/png": "[encoded data removed]",
      "text/plain": [
       "<Figure size 640x480 with 1 Axes>"
      ]
     },
     "metadata": {},
     "output_type": "display_data"
    }
   ],
   "source": [
    "sns.lineplot(x='c',y='%seg',data=df_c)\n",
    "sns.lineplot(x='c',y='%alt',data=df_c)"
   ]
  },
  {
   "cell_type": "code",
   "execution_count": 42,
   "id": "c8579d4b-c6ec-4550-b7c1-87cbbcd5c4db",
   "metadata": {},
   "outputs": [
    {
     "data": {
      "image/png": "[encoded data removed]",
      "text/plain": [
       "<Figure size 640x480 with 1 Axes>"
      ]
     },
     "metadata": {},
     "output_type": "display_data"
    }
   ],
   "source": [
    "sns.lineplot(x='c',y='eff',data=df_c, label='efficiency')\n",
    "plt.errorbar(x=df_c['c'], y=df_c['eff'], yerr=df_c[\"eff_er\"], fmt='o', color='blue', ecolor='b', elinewidth=2, capsize=4)\n",
    "sns.lineplot(x='c',y='ineq',data=df_c, label='inequality')\n",
    "plt.errorbar(x=df_c['c'], y=df_c['ineq'], yerr=df_c[\"ineq_er\"], fmt='o', color='blue', ecolor='r', elinewidth=2, capsize=4)\n",
    "plt.grid()"
   ]
  }
 ],
 "metadata": {
  "kernelspec": {
   "display_name": "Python 3 (ipykernel)",
   "language": "python",
   "name": "python3"
  },
  "language_info": {
   "codemirror_mode": {
    "name": "ipython",
    "version": 3
   },
   "file_extension": ".py",
   "mimetype": "text/x-python",
   "name": "python",
   "nbconvert_exporter": "python",
   "pygments_lexer": "ipython3",
   "version": "3.12.3"
  }
 },
 "nbformat": 4,
 "nbformat_minor": 5
}
