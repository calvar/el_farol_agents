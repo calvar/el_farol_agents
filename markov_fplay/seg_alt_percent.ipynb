{
 "cells": [
  {
   "cell_type": "code",
   "execution_count": 1,
   "id": "83516b15-e591-43d9-a497-67720fb14c90",
   "metadata": {},
   "outputs": [],
   "source": [
    "from pathlib import Path \n",
    "\n",
    "import numpy as np\n",
    "import pandas as pd\n",
    "import matplotlib.pyplot as plt\n",
    "import seaborn as sns\n",
    "from mpl_toolkits.mplot3d import Axes3D\n",
    "\n",
    "import re"
   ]
  },
  {
   "cell_type": "code",
   "execution_count": 7,
   "id": "6f1d1639-3438-4f2d-b473-b117abc31b22",
   "metadata": {
    "scrolled": true
   },
   "outputs": [
    {
     "name": "stdout",
     "output_type": "stream",
     "text": [
      "0.1 0.5\n",
      "0.5 0.5\n",
      "0.01 0.5\n",
      "0.05 0.5\n"
     ]
    }
   ],
   "source": [
    "folder = Path('./params/N4/Th0.5/epsilon')\n",
    "for f in folder.iterdir():\n",
    "    strlist = re.split('C|Th|e',f.name)\n",
    "    print(strlist[2], strlist[-1].strip('.dat'))\n",
    "Th = float(re.split('C|Th|e',f.name)[-1].strip('.dat'))"
   ]
  },
  {
   "cell_type": "code",
   "execution_count": 8,
   "id": "5768c0c9-ec51-45a0-91ac-2ab0fd553c3b",
   "metadata": {},
   "outputs": [],
   "source": [
    "plot_folder = \"plots/data_distribution/N4/\""
   ]
  },
  {
   "cell_type": "code",
   "execution_count": 10,
   "id": "7cfa5837-e5b6-49b5-a93f-fadc13f27496",
   "metadata": {},
   "outputs": [
    {
     "name": "stderr",
     "output_type": "stream",
     "text": [
      "<>:10: SyntaxWarning: invalid escape sequence '\\s'\n",
      "<>:10: SyntaxWarning: invalid escape sequence '\\s'\n",
      "/tmp/ipykernel_90064/1559289435.py:10: SyntaxWarning: invalid escape sequence '\\s'\n",
      "  df = pd.read_table(f, sep=\"\\s+\", header=None, names=['efficiency','inequality','n_efficiency','n_inequality','entropy','cond_entropy','frequency','info_per_agent','int_entropy','ineq_slope','emax_perc'])\n"
     ]
    },
    {
     "data": {
      "text/html": [
       "<div>\n",
       "<style scoped>\n",
       "    .dataframe tbody tr th:only-of-type {\n",
       "        vertical-align: middle;\n",
       "    }\n",
       "\n",
       "    .dataframe tbody tr th {\n",
       "        vertical-align: top;\n",
       "    }\n",
       "\n",
       "    .dataframe thead th {\n",
       "        text-align: right;\n",
       "    }\n",
       "</style>\n",
       "<table border=\"1\" class=\"dataframe\">\n",
       "  <thead>\n",
       "    <tr style=\"text-align: right;\">\n",
       "      <th></th>\n",
       "      <th>c</th>\n",
       "      <th>%seg</th>\n",
       "      <th>%alt</th>\n",
       "      <th>eff</th>\n",
       "      <th>ineq</th>\n",
       "      <th>eff_er</th>\n",
       "      <th>ineq_er</th>\n",
       "    </tr>\n",
       "  </thead>\n",
       "  <tbody>\n",
       "    <tr>\n",
       "      <th>2</th>\n",
       "      <td>0.01</td>\n",
       "      <td>0.0</td>\n",
       "      <td>0.0</td>\n",
       "      <td>0.443833</td>\n",
       "      <td>0.278357</td>\n",
       "      <td>0.024313</td>\n",
       "      <td>0.129141</td>\n",
       "    </tr>\n",
       "    <tr>\n",
       "      <th>3</th>\n",
       "      <td>0.05</td>\n",
       "      <td>0.0</td>\n",
       "      <td>0.0</td>\n",
       "      <td>0.411472</td>\n",
       "      <td>0.220132</td>\n",
       "      <td>0.007810</td>\n",
       "      <td>0.096615</td>\n",
       "    </tr>\n",
       "    <tr>\n",
       "      <th>0</th>\n",
       "      <td>0.1</td>\n",
       "      <td>0.0</td>\n",
       "      <td>0.0</td>\n",
       "      <td>0.354505</td>\n",
       "      <td>0.171877</td>\n",
       "      <td>0.007426</td>\n",
       "      <td>0.070542</td>\n",
       "    </tr>\n",
       "    <tr>\n",
       "      <th>1</th>\n",
       "      <td>0.5</td>\n",
       "      <td>0.0</td>\n",
       "      <td>0.0</td>\n",
       "      <td>0.068791</td>\n",
       "      <td>0.032362</td>\n",
       "      <td>0.007456</td>\n",
       "      <td>0.014007</td>\n",
       "    </tr>\n",
       "  </tbody>\n",
       "</table>\n",
       "</div>"
      ],
      "text/plain": [
       "      c  %seg  %alt       eff      ineq    eff_er   ineq_er\n",
       "2  0.01   0.0   0.0  0.443833  0.278357  0.024313  0.129141\n",
       "3  0.05   0.0   0.0  0.411472  0.220132  0.007810  0.096615\n",
       "0   0.1   0.0   0.0  0.354505  0.171877  0.007426  0.070542\n",
       "1   0.5   0.0   0.0  0.068791  0.032362  0.007456  0.014007"
      ]
     },
     "execution_count": 10,
     "metadata": {},
     "output_type": "execute_result"
    }
   ],
   "source": [
    "C_list = []\n",
    "percent_seg = []\n",
    "percent_alt = []\n",
    "eff = []\n",
    "ineq = []\n",
    "eff_er = []\n",
    "ineq_er = []\n",
    "for f in folder.iterdir():\n",
    "    C = re.split('C|Th|e',f.name)[2]\n",
    "    df = pd.read_table(f, sep=\"\\s+\", header=None, names=['efficiency','inequality','n_efficiency','n_inequality','entropy','cond_entropy','frequency','info_per_agent','int_entropy','ineq_slope','emax_perc'])\n",
    "    C_list.append(C)\n",
    "    \n",
    "    mx = df['inequality'].max()\n",
    "    mn = 0.98*mx\n",
    "    df_seg = df[(df['inequality']>mn) & (df['cond_entropy']<0.01) & (df['efficiency']>0.98*Th)]\n",
    "    percent_seg.append(df_seg.shape[0]/df.shape[0])\n",
    "    #print(df_seg.head())\n",
    "\n",
    "    mn = 0.02*mx\n",
    "    df_alt = df[(df['inequality']<mn) & (df['cond_entropy']<0.01) & (df['efficiency']>0.98*Th)]\n",
    "    percent_alt.append(df_alt.shape[0]/df.shape[0])\n",
    "    #print(df_alt.head())\n",
    "\n",
    "    eff.append(df['efficiency'].mean())\n",
    "    ineq.append(df['inequality'].mean())\n",
    "    eff_er.append(df['efficiency'].std())\n",
    "    ineq_er.append(df['inequality'].std())\n",
    "\n",
    "df_c = pd.DataFrame({'c':C_list, '%seg':percent_seg, '%alt':percent_alt, 'eff':eff, 'ineq':ineq, 'eff_er':eff_er, 'ineq_er':ineq_er})\n",
    "df_c.c.astype('float')\n",
    "df_c.sort_values(by='c',inplace=True)\n",
    "df_c.head()"
   ]
  },
  {
   "cell_type": "code",
   "execution_count": 11,
   "id": "ddfeff5d-cbfe-414c-9222-d37caa162866",
   "metadata": {},
   "outputs": [],
   "source": [
    "#df_c['c'].iloc[df_c['eff'].argmax()]"
   ]
  },
  {
   "cell_type": "code",
   "execution_count": 12,
   "id": "22c6b9a2-2df3-4321-881f-c69b8cb979fd",
   "metadata": {},
   "outputs": [
    {
     "data": {
      "text/plain": [
       "2    0.01\n",
       "3    0.05\n",
       "0     0.1\n",
       "1     0.5\n",
       "Name: c, dtype: object"
      ]
     },
     "execution_count": 12,
     "metadata": {},
     "output_type": "execute_result"
    }
   ],
   "source": [
    "df_c['c']"
   ]
  },
  {
   "cell_type": "code",
   "execution_count": 13,
   "id": "e2bdaff0-2f8b-4cf7-9e64-ba1bf496403e",
   "metadata": {},
   "outputs": [
    {
     "data": {
      "image/png": "[encoded data removed]",
      "text/plain": [
       "<Figure size 640x480 with 1 Axes>"
      ]
     },
     "metadata": {},
     "output_type": "display_data"
    }
   ],
   "source": [
    "ax = sns.lineplot(x='c',y='%seg',data=df_c,label='seg')\n",
    "ax.set_ylabel('%')\n",
    "sns.lineplot(x='c',y='%alt',data=df_c,label='alt')\n",
    "plt.savefig(plot_folder+'seg_alt_percent.png')"
   ]
  },
  {
   "cell_type": "code",
   "execution_count": 14,
   "id": "c8579d4b-c6ec-4550-b7c1-87cbbcd5c4db",
   "metadata": {},
   "outputs": [
    {
     "data": {
      "image/png": "[encoded data removed]",
      "text/plain": [
       "<Figure size 640x480 with 1 Axes>"
      ]
     },
     "metadata": {},
     "output_type": "display_data"
    }
   ],
   "source": [
    "ax = sns.lineplot(x='c',y='eff',data=df_c, label='efficiency')\n",
    "ax.axhline(y=Th, color='blue', linestyle='--', linewidth=2)\n",
    "plt.errorbar(x=df_c['c'], y=df_c['eff'], yerr=df_c[\"eff_er\"], fmt='o', color='blue', ecolor='b', elinewidth=2, capsize=4)\n",
    "sns.lineplot(x='c',y='ineq',data=df_c, label='inequality')\n",
    "plt.errorbar(x=df_c['c'], y=df_c['ineq'], yerr=df_c[\"ineq_er\"], fmt='o', color='red', ecolor='r', elinewidth=2, capsize=4)\n",
    "plt.grid()\n",
    "plt.savefig(plot_folder+'eff_ineq_vs_C.png')"
   ]
  }
 ],
 "metadata": {
  "kernelspec": {
   "display_name": "Python 3 (ipykernel)",
   "language": "python",
   "name": "python3"
  },
  "language_info": {
   "codemirror_mode": {
    "name": "ipython",
    "version": 3
   },
   "file_extension": ".py",
   "mimetype": "text/x-python",
   "name": "python",
   "nbconvert_exporter": "python",
   "pygments_lexer": "ipython3",
   "version": "3.12.3"
  }
 },
 "nbformat": 4,
 "nbformat_minor": 5
}
