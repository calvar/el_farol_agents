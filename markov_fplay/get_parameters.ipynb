{
 "cells": [
  {
   "cell_type": "code",
   "execution_count": 31,
   "id": "a3916598-b371-4390-bc95-b970bfc805b2",
   "metadata": {},
   "outputs": [],
   "source": [
    "import numpy as np\n",
    "from numpy.fft import fft"
   ]
  },
  {
   "cell_type": "code",
   "execution_count": 32,
   "id": "072686fd-87f7-4843-8617-75aae0c89b49",
   "metadata": {},
   "outputs": [],
   "source": [
    "folder = 'data_N8b4d'\n",
    "outfile = 'simulation_params_N8b4d.dat'\n",
    "maxN = 4501"
   ]
  },
  {
   "cell_type": "code",
   "execution_count": 33,
   "id": "d0e41a42-453c-486a-87bd-281e426ea141",
   "metadata": {},
   "outputs": [
    {
     "data": {
      "text/plain": [
       "(901, 501, 8)"
      ]
     },
     "execution_count": 33,
     "metadata": {},
     "output_type": "execute_result"
    }
   ],
   "source": [
    "#Read earnings sequences\n",
    "earn_data = []\n",
    "for n in range(0,maxN,5):\n",
    "    earnings = []\n",
    "    with open(folder+\"/earnings_evol_{0:04d}.dat\".format(n), \"r\") as fdata:\n",
    "        for line in fdata:\n",
    "            v = list(map(int,line.split()))\n",
    "            earnings.append(v[1:])\n",
    "    earn_data.append(earnings)\n",
    "earn_data = np.array(earn_data)\n",
    "earn_data.shape"
   ]
  },
  {
   "cell_type": "markdown",
   "id": "f32f1eab-b57e-4041-9837-6e7c1d97f162",
   "metadata": {},
   "source": [
    "### Efficiency\n",
    "Average utility per agent over the last $\\tau$ rounds of the $m$th simulation.\n",
    "$$E_m=\\frac{1}{\\tau}\\sum_{t=T-\\tau}^{T}\\frac{1}{N}\\sum_{i=1}^NU_{i,m}(t)=\\frac{1}{\\tau}\\sum_{t=T-\\tau}^{T}\\bar{U}_{m}(t),$$\n",
    "where $N$ is the number of agents, and $T$ is the length of a simulation measured in rounds. $U_{i,m}(t)$ is the utility of agent $i$ in simulation $m$ at round $t$, scaled each round as\n",
    "$$U_i=\\frac{u_i}{N\\cdot|u|_{max}},$$\n",
    "where $u_i$ is the plain utility of agent $i$, $|\\cdot|_{max}$ is the maximum absolute $u_i$ value for the round in a particular simulation. With this choice of normalization the utility of a single agent is bounded by $-1/N\\leq U_i\\leq 1/N$, and the total utility per round is bounded between -1 and 1. The downside is that it is not possible to compare for the net utilities of different simulations. If this is needed, it is better only to normalize by $N$."
   ]
  },
  {
   "cell_type": "markdown",
   "id": "e710fc4b-1e85-40f5-8146-2074308cce91",
   "metadata": {},
   "source": [
    "### Inequality\n",
    "Average standard deviation of the utility per agent over the last $\\tau$ rounds of the $m$th simulation.\n",
    "$$Ieq_m=\\frac{1}{\\tau}\\sum_{t=T-\\tau}^{T}\\sqrt{\\frac{1}{N-1}\\sum_{i=1}^N(U_{i,m}(t)-\\bar{U}_m(t))^2}=\\frac{1}{\\tau}\\sum_{t=T-\\tau}^{T}\\sigma_m(t).$$"
   ]
  },
  {
   "cell_type": "code",
   "execution_count": 34,
   "id": "a342d2b6-8403-4ed4-804f-56e9eaf94071",
   "metadata": {},
   "outputs": [],
   "source": [
    "def unorm(row):\n",
    "    mx = np.abs(row).max()\n",
    "    N = len(row)\n",
    "    if mx != 0:\n",
    "        return np.array([e/(N*mx) for e in row])\n",
    "    else:\n",
    "        return row\n",
    "\n",
    "def nnorm(row):\n",
    "    N = len(row)\n",
    "    return np.array([e/N for e in row])"
   ]
  },
  {
   "cell_type": "code",
   "execution_count": 35,
   "id": "ccfa0d91-73a4-4713-a911-c525dd821271",
   "metadata": {},
   "outputs": [
    {
     "data": {
      "text/plain": [
       "(901, 501, 8)"
      ]
     },
     "execution_count": 35,
     "metadata": {},
     "output_type": "execute_result"
    }
   ],
   "source": [
    "# Scale utility by N\n",
    "utilities = np.array([[nnorm(e) for e in earnings] for earnings in earn_data])\n",
    "utilities.shape"
   ]
  },
  {
   "cell_type": "code",
   "execution_count": 36,
   "id": "573448ff-8673-42c7-adde-0665d6079195",
   "metadata": {},
   "outputs": [
    {
     "data": {
      "text/plain": [
       "(901, 501, 8)"
      ]
     },
     "execution_count": 36,
     "metadata": {},
     "output_type": "execute_result"
    }
   ],
   "source": [
    "# Scale utility full\n",
    "n_utilities = np.array([[unorm(e) for e in earnings] for earnings in earn_data])\n",
    "n_utilities.shape"
   ]
  },
  {
   "cell_type": "code",
   "execution_count": 37,
   "id": "ebf74d9f-c1d4-4283-8573-6e73471697c1",
   "metadata": {},
   "outputs": [],
   "source": [
    "tau = 100\n",
    "N = utilities.shape[2]"
   ]
  },
  {
   "cell_type": "code",
   "execution_count": 38,
   "id": "ca1eb45e-83c7-4f8a-b61c-85ece82387da",
   "metadata": {},
   "outputs": [
    {
     "data": {
      "text/plain": [
       "(901, 100, 8)"
      ]
     },
     "execution_count": 38,
     "metadata": {},
     "output_type": "execute_result"
    }
   ],
   "source": [
    "# Slice the last tau steps\n",
    "utilities = utilities[:,-tau:,:]\n",
    "utilities.shape"
   ]
  },
  {
   "cell_type": "code",
   "execution_count": 39,
   "id": "94a78925-91cd-4db7-a15d-ac8731bf1e6c",
   "metadata": {},
   "outputs": [
    {
     "data": {
      "text/plain": [
       "(901, 100, 8)"
      ]
     },
     "execution_count": 39,
     "metadata": {},
     "output_type": "execute_result"
    }
   ],
   "source": [
    "# Slice the last tau steps\n",
    "n_utilities = n_utilities[:,-tau:,:]\n",
    "n_utilities.shape"
   ]
  },
  {
   "cell_type": "code",
   "execution_count": 40,
   "id": "7b1c8341-3be6-469f-bec0-95cf0266e579",
   "metadata": {},
   "outputs": [],
   "source": [
    "#Efficiencies\n",
    "efficiencies = [np.array([u.mean() for u in util]).mean() for util in utilities]\n",
    "#efficiencies"
   ]
  },
  {
   "cell_type": "code",
   "execution_count": 41,
   "id": "39cfcb36-8943-48aa-8c0c-946b822326a2",
   "metadata": {},
   "outputs": [],
   "source": [
    "#Inequalities\n",
    "inequalities = [np.array([u.std() for u in util]).mean() for util in utilities]\n",
    "#inequalities"
   ]
  },
  {
   "cell_type": "code",
   "execution_count": 42,
   "id": "ac3e8680-cf86-4431-9283-8b2ea49640c7",
   "metadata": {},
   "outputs": [],
   "source": [
    "n_efficiencies = [np.array([u.mean() for u in util]).mean() for util in n_utilities]"
   ]
  },
  {
   "cell_type": "code",
   "execution_count": 43,
   "id": "d9890189-841e-4b32-af1d-fc55e0967ef6",
   "metadata": {},
   "outputs": [],
   "source": [
    "n_inequalities = [np.array([u.std() for u in util]).mean() for util in n_utilities]"
   ]
  },
  {
   "cell_type": "markdown",
   "id": "4c713ab0-5b37-410d-82db-9af265e2cbbd",
   "metadata": {},
   "source": [
    "### Entropy\n",
    "Entropy per agent of the sequence of states of the system during simulation $m$\n",
    "$$h_m=-\\frac{1}{N}\\sum_kp_{k,m}\\log_2p_{k,m},$$\n",
    "where $p_{k,m}$ is the probability of finding state $1\\leq k\\leq 2^N$ in the sequence of length $\\tau$ at simulation $m$\n",
    "$$p_{k,m}=\\frac{n_{k,m}}{\\tau},$$\n",
    "where $n_{k,m}$ is the number of occurences of state $k$ in the sequence of simulation $m$. The maximum entropy per agent for a system with $N$ agents is $\\log_2(2^N)/N=1$."
   ]
  },
  {
   "cell_type": "code",
   "execution_count": 44,
   "id": "7b4936ce-1e17-4e4c-96f5-6cefd4a66cae",
   "metadata": {},
   "outputs": [],
   "source": [
    "def bin_to_dec(b_str):\n",
    "    if len(b_str) > 1:\n",
    "        return int(b_str[0])*2**(len(b_str)-1) + bin_to_dec(b_str[1:])\n",
    "    else:\n",
    "        return int(b_str[0])"
   ]
  },
  {
   "cell_type": "code",
   "execution_count": 45,
   "id": "ce548430-f0b7-4980-b12a-5dccd3a6dab8",
   "metadata": {},
   "outputs": [
    {
     "data": {
      "text/plain": [
       "(901, 501)"
      ]
     },
     "execution_count": 45,
     "metadata": {},
     "output_type": "execute_result"
    }
   ],
   "source": [
    "#Read state sequences\n",
    "state_bins = []\n",
    "state_data = []\n",
    "for n in range(0,maxN,5):\n",
    "    bins = []\n",
    "    states = []\n",
    "    with open(folder+\"/state_evol_{0:04d}.dat\".format(n), \"r\") as fdata:\n",
    "        for line in fdata:\n",
    "            v = line.split()\n",
    "            bins.append(v[1])\n",
    "            states.append(bin_to_dec(v[1]))\n",
    "    state_bins.append(bins)\n",
    "    state_data.append(states)\n",
    "state_bins = np.array(state_bins)\n",
    "state_data = np.array(state_data)\n",
    "state_data.shape"
   ]
  },
  {
   "cell_type": "code",
   "execution_count": 46,
   "id": "5ee24ad8-456a-45ee-8487-9da3dbc9ef7d",
   "metadata": {},
   "outputs": [
    {
     "data": {
      "text/plain": [
       "(901, 100)"
      ]
     },
     "execution_count": 46,
     "metadata": {},
     "output_type": "execute_result"
    }
   ],
   "source": [
    "#Slice the last tau steps\n",
    "state_data = state_data[:,-tau:]\n",
    "state_data.shape"
   ]
  },
  {
   "cell_type": "code",
   "execution_count": 47,
   "id": "add9cb08-62a4-466d-97c9-f3a474012cbe",
   "metadata": {},
   "outputs": [],
   "source": [
    "#Compute the distributions\n",
    "def comp_dist(sequence, N):\n",
    "    dist = np.zeros(2**N)\n",
    "    u, counts = np.unique(sequence, return_counts=True)\n",
    "    for i in range(len(u)):\n",
    "        dist[u[i]] = counts[i]\n",
    "    return dist/dist.sum()\n",
    "\n",
    "#Compute the entropy per agent\n",
    "def entropy(distribution):\n",
    "    N = np.log2(len(distribution))\n",
    "    h = 0\n",
    "    for p in distribution:\n",
    "        if p > 0:\n",
    "            h -= p * np.log2(p)\n",
    "    return h/N"
   ]
  },
  {
   "cell_type": "code",
   "execution_count": 48,
   "id": "7d136d58-6e04-47fa-aaf3-438999cb1256",
   "metadata": {},
   "outputs": [],
   "source": [
    "#Entropies\n",
    "entropies = [entropy(comp_dist(states, N)) for states in state_data]\n",
    "#entropies"
   ]
  },
  {
   "cell_type": "markdown",
   "id": "649b8070-4be4-4683-b744-8c87e20a3352",
   "metadata": {},
   "source": [
    "### Frequency\n",
    "Frequency with wich a state pattern repeats in the time series. The frequency is computed as the inverse of the period thet the pattern presents."
   ]
  },
  {
   "cell_type": "code",
   "execution_count": 49,
   "id": "2ff6d1fd-51c2-4761-bf22-5353210e0282",
   "metadata": {},
   "outputs": [],
   "source": [
    "##The fft is not getting the correct frequencies in several cases, in particular is  period>3\n",
    "#def get_highest_freq(series):\n",
    "#    X = fft(series)\n",
    "#    sr = 1     #sampling rate (1 state every time step)\n",
    "#    N = len(X)\n",
    "#    n = np.arange(N)\n",
    "#    T = N/sr\n",
    "#   freq = n/T\n",
    "#   return freq[list(np.abs(X[1:])).index(max(np.abs(X[1:int(N/2)])))]\n",
    "\n",
    "def get_period(series):\n",
    "    val = series[1]\n",
    "    count = 1\n",
    "    for i in range(2,len(series)):\n",
    "        if series[i] == val:\n",
    "            break\n",
    "        count += 1\n",
    "    return count"
   ]
  },
  {
   "cell_type": "code",
   "execution_count": 50,
   "id": "4f598f07-a4d1-43f8-8bc9-d513495f0f48",
   "metadata": {},
   "outputs": [],
   "source": [
    "#Frequencies\n",
    "frequencies = [1/get_period(states) for states in state_data]\n",
    "#frequencies"
   ]
  },
  {
   "cell_type": "code",
   "execution_count": 51,
   "id": "e485a3a2-37fa-438a-b150-477a503d414e",
   "metadata": {},
   "outputs": [],
   "source": [
    "#for i in range(len(frequencies)):\n",
    "#    if frequencies[i] == 0:\n",
    "#       print(state_data[i])"
   ]
  },
  {
   "cell_type": "markdown",
   "id": "a652a8e1-dd60-427b-9050-7377b225236f",
   "metadata": {},
   "source": [
    "### Information per agent\n",
    "Every agent develops a strategy to choose its next action given its knowledge of the previous state. This strategy is stored in its transition matrix an utility function. However, some strategies might be simple and depend on little to no knowledge as, for example, the strategy to follow always the same action irrespective of the previous state. Other strategies might be more complex, and depend on the knowledge of a finite number of bits from the previous state.</b>\n",
    "\n",
    "The information per agent of a particular simulation refers to the average number of bits per agent necessary to follow the strategy the agents have adopted."
   ]
  },
  {
   "cell_type": "code",
   "execution_count": 52,
   "id": "6ee0b822-f94c-4ac6-be4f-43e2e593be19",
   "metadata": {},
   "outputs": [
    {
     "data": {
      "text/plain": [
       "(901, 8, 4)"
      ]
     },
     "execution_count": 52,
     "metadata": {},
     "output_type": "execute_result"
    }
   ],
   "source": [
    "neighbors = []\n",
    "for n in range(0,maxN,5):\n",
    "    neigh = []\n",
    "    with open(folder+\"/known_idx_{0:04d}.dat\".format(n), \"r\") as fdata:\n",
    "        for line in fdata:\n",
    "            v = list(map(int,line.split()))\n",
    "            neigh.append(v[1:])\n",
    "    neighbors.append(neigh)\n",
    "neighbors = np.array(neighbors)\n",
    "neighbors.shape"
   ]
  },
  {
   "cell_type": "code",
   "execution_count": 53,
   "id": "3ae09f35-a25d-495d-b77c-fefb32972380",
   "metadata": {},
   "outputs": [],
   "source": [
    "def get_pattern(data):\n",
    "    p = get_period(data)\n",
    "    pat = data[-p:]\n",
    "    pattern = {}\n",
    "    for i in range(len(pat[0])):\n",
    "        pattern[i] = [pat[j][i] for j in range(len(pat))]\n",
    "    return pattern\n",
    "\n",
    "def filter_pattern(pattern, f):\n",
    "    f_pat = {}\n",
    "    for i in pattern.keys():\n",
    "        if f[i]:\n",
    "            f_pat[i] = pattern[i]\n",
    "    return f_pat\n",
    "\n",
    "def combinations(n, k):\n",
    "    combos = []\n",
    "    if (k == 0):\n",
    "        return [[]]\n",
    "    elif (k == 1):\n",
    "        return [[i] for i in n] \n",
    "    for i in range(len(n)): \n",
    "        head = n[i:i+1]\n",
    "\n",
    "        tail = combinations(n[i+1:],k-1)\n",
    "\n",
    "        for j in range(len(tail)):\n",
    "            #print(\"tail[j]\", tail[j])\n",
    "            if (type(tail[j]) == int):\n",
    "                combo = head + [tail[j]]\n",
    "            else:\n",
    "                combo = head + tail[j]\n",
    "            combos.append(combo)   \n",
    "    return combos\n",
    "\n",
    "def get_strategy(pattern, idx, known_idx):\n",
    "    my_neighb = np.delete(known_idx[idx],np.where(known_idx[idx]==idx)[0]).tolist()\n",
    "    N = len(pattern)\n",
    "    l = len(pattern[idx])\n",
    "    #print(my_neighb)\n",
    "\n",
    "    for Nneigh in range(0,len(my_neighb)+1):\n",
    "        neighb_lists = combinations(my_neighb, Nneigh)\n",
    "        neighb_lists = [[idx] + nl for nl in neighb_lists]\n",
    "        #print(neighb_lists)\n",
    "        \n",
    "        for n in neighb_lists:\n",
    "            columns = sorted(n)\n",
    "            mask = [(i in columns) for i in range(N)]\n",
    "            f_pat = filter_pattern(pattern, mask)\n",
    "            \n",
    "            #print(f_pat)\n",
    "            strat = {}\n",
    "            test = True\n",
    "            for i in range(l):\n",
    "                p = ''.join(f_pat[a][i] for a in columns)\n",
    "                #print(p)\n",
    "                if p not in strat:\n",
    "                    strat[p] = f_pat[idx][(i+1)%l]\n",
    "                else:\n",
    "                    if strat[p] != f_pat[idx][(i+1)%l]:\n",
    "                        test = False\n",
    "                        break\n",
    "                test = True\n",
    "        \n",
    "            if test:   \n",
    "                return tuple(columns), strat\n",
    "    return None\n",
    "\n"
   ]
  },
  {
   "cell_type": "code",
   "execution_count": 54,
   "id": "f1466101-5f5a-4056-8923-d949c3b3134c",
   "metadata": {},
   "outputs": [],
   "source": [
    "#for NNN in range(600):\n",
    "#    pat = get_pattern(state_bins[NNN])\n",
    "#    print(pat)\n",
    "#    print(neighbors[NNN])\n",
    "#    strat = get_strategy(pat, 0, neighbors[NNN])\n",
    "#    print(strat)\n",
    "#    min_bits = len(strat[0]) if len(strat[1]) > 1 else 0\n",
    "#    print(min_bits)\n",
    "#    print()"
   ]
  },
  {
   "cell_type": "code",
   "execution_count": 55,
   "id": "6e18e348-92bd-49d2-9d80-630a7a68e152",
   "metadata": {},
   "outputs": [],
   "source": [
    "def av_min_info(state, neighbors):\n",
    "    av = 0\n",
    "    pattern = get_pattern(state)\n",
    "    for i in pattern.keys():\n",
    "        strat = get_strategy(pattern,i,neighbors)\n",
    "        av += len(strat[0]) if len(strat[1]) > 1 else 0\n",
    "    return av/len(pattern)"
   ]
  },
  {
   "cell_type": "code",
   "execution_count": 56,
   "id": "636d5eff-11ff-4466-9e5d-dcdc925b99d3",
   "metadata": {},
   "outputs": [],
   "source": [
    "#Information per agent\n",
    "info_per_agent = [av_min_info(state_bins[i],neighbors[i]) for i in range(len(state_bins))]\n",
    "#info_per_agent"
   ]
  },
  {
   "cell_type": "markdown",
   "id": "c6725f41-504c-4373-bd4e-cbb66d4a9bd9",
   "metadata": {},
   "source": [
    "### Inter-agent entropy\n",
    "In a single round of a simulation, measures the entropy of the binary states of the agents."
   ]
  },
  {
   "cell_type": "code",
   "execution_count": 57,
   "id": "c83d1de3-218f-4245-ab85-c4bb9da90626",
   "metadata": {},
   "outputs": [],
   "source": [
    "#Compute the entropy per agent\n",
    "def entropy_i(bin_state):\n",
    "    N = len(bin_state[0])\n",
    "    H_ac = 0\n",
    "    for s in bin_state[1:]:\n",
    "        p_zeros = s.count('0')/N\n",
    "        p_ones = s.count('1')/N\n",
    "        if p_zeros != 0 and p_ones != 0:\n",
    "            H_ac += -p_zeros*np.log2(p_zeros)-p_ones*np.log2(p_ones)\n",
    "    return H_ac/len(bin_state)"
   ]
  },
  {
   "cell_type": "code",
   "execution_count": 58,
   "id": "f12a6420-f10e-4450-9a22-05055b2235f7",
   "metadata": {},
   "outputs": [],
   "source": [
    "iagent_entropy = [entropy_i(s) for s in state_bins]\n",
    "#iagent_entropy"
   ]
  },
  {
   "cell_type": "markdown",
   "id": "3bc09f23-624f-4da2-b7cb-0265ac69cca0",
   "metadata": {},
   "source": [
    "### Save parameters"
   ]
  },
  {
   "cell_type": "code",
   "execution_count": 59,
   "id": "6a83be67-df98-4233-8a6d-968319525309",
   "metadata": {},
   "outputs": [],
   "source": [
    "with open(outfile, \"w\") as fout:\n",
    "    for i in range(state_data.shape[0]):\n",
    "        fout.write(\"{0} {1} {2} {3} {4} {5} {6} {7} {8}\\n\".format(i,efficiencies[i],inequalities[i],n_efficiencies[i],\n",
    "                                                                  n_inequalities[i],entropies[i],frequencies[i],\n",
    "                                                                  info_per_agent[i],iagent_entropy[i]))"
   ]
  },
  {
   "cell_type": "code",
   "execution_count": 60,
   "id": "41d3b215-a35f-4850-832e-65d270573900",
   "metadata": {},
   "outputs": [],
   "source": [
    "#for i in range(len(efficiencies)):\n",
    "#    if inequalities[i] < 1.e-3:\n",
    "#        print(state_data[i])\n",
    "#        print(utilities[i])"
   ]
  },
  {
   "cell_type": "code",
   "execution_count": null,
   "id": "4174f993-7816-4cd4-9ba0-6a78fc273a73",
   "metadata": {},
   "outputs": [],
   "source": []
  }
 ],
 "metadata": {
  "kernelspec": {
   "display_name": "venv",
   "language": "python",
   "name": "venv"
  },
  "language_info": {
   "codemirror_mode": {
    "name": "ipython",
    "version": 3
   },
   "file_extension": ".py",
   "mimetype": "text/x-python",
   "name": "python",
   "nbconvert_exporter": "python",
   "pygments_lexer": "ipython3",
   "version": "3.10.12"
  }
 },
 "nbformat": 4,
 "nbformat_minor": 5
}
