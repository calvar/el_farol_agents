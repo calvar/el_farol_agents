{
 "cells": [
  {
   "cell_type": "code",
   "execution_count": 1068,
   "id": "76c6180b-cc73-464b-9c35-d5e18c7e4e7f",
   "metadata": {},
   "outputs": [],
   "source": [
    "import numpy as np"
   ]
  },
  {
   "cell_type": "code",
   "execution_count": 1069,
   "id": "c08ba233-c57f-4576-a7ac-c92a18371561",
   "metadata": {},
   "outputs": [],
   "source": [
    "folder = 'data_p'#'data/Thresh0.25/data_N4C0.01Th0.25'\n",
    "outfile = 'simulation_params_N4C0.01Th0.25.dat'#'params/N4/Th0.25/simulation_params_N4C0.01Th0.25.dat'\n",
    "maxN = 3001"
   ]
  },
  {
   "cell_type": "code",
   "execution_count": 1070,
   "id": "878236de-d6c9-4bc8-98d7-e7370d41caad",
   "metadata": {},
   "outputs": [],
   "source": [
    "# No. of agents\n",
    "N = 4\n",
    "# Threshold\n",
    "Th = 0.25"
   ]
  },
  {
   "cell_type": "code",
   "execution_count": 1071,
   "id": "a388230a-8167-4edc-b8ac-e55140093dc1",
   "metadata": {},
   "outputs": [],
   "source": [
    "Amx = np.floor(N*Th)"
   ]
  },
  {
   "cell_type": "code",
   "execution_count": 1072,
   "id": "6cee2c3e-1ba6-4ad8-9ed0-7a1d0400dac5",
   "metadata": {},
   "outputs": [
    {
     "data": {
      "text/plain": [
       "(601, 3001, 4)"
      ]
     },
     "execution_count": 1072,
     "metadata": {},
     "output_type": "execute_result"
    }
   ],
   "source": [
    "#Read earnings sequences\n",
    "earn_data = []\n",
    "for n in range(0,maxN,5):\n",
    "    earnings = []\n",
    "    with open(folder+\"/earnings_evol_{0:04d}.dat\".format(n), \"r\") as fdata:\n",
    "        for line in fdata:\n",
    "            v = list(map(int,line.split()))\n",
    "            earnings.append(v[1:])\n",
    "    earn_data.append(earnings)\n",
    "earn_data = np.array(earn_data)\n",
    "earn_data.shape"
   ]
  },
  {
   "cell_type": "markdown",
   "id": "f4a8019e-1699-41a6-8b2d-9141408e9d24",
   "metadata": {},
   "source": [
    "### Efficiency\n",
    "Average utility per agent over the last $\\tau$ rounds of the $m$th simulation.\n",
    "$$E_m=\\frac{1}{\\tau}\\sum_{t=T-\\tau}^{T}\\frac{1}{N}\\sum_{i=1}^NU_{i,m}(t)=\\frac{1}{\\tau}\\sum_{t=T-\\tau}^{T}\\bar{U}_{m}(t),$$\n",
    "where $N$ is the number of agents, and $T$ is the length of a simulation measured in rounds. $U_{i,m}(t)$ is the utility of agent $i$ in simulation $m$ at round $t$, scaled each round as\n",
    "$$U_i=\\frac{u_i}{N\\cdot|u|_{max}},$$\n",
    "where $u_i$ is the plain utility of agent $i$, $|\\cdot|_{max}$ is the maximum absolute $u_i$ value for the round in a particular simulation. With this choice of normalization the utility of a single agent is bounded by $-1/N\\leq U_i\\leq 1/N$, and the total utility per round is bounded between -1 and 1. The downside is that it is not possible to compare for the net utilities of different simulations. If this is needed, it is better only to normalize by $N$."
   ]
  },
  {
   "cell_type": "markdown",
   "id": "f227a722-88bc-4a8b-aea7-4a91a110c088",
   "metadata": {},
   "source": [
    "### Inequality\n",
    "Average standard deviation of the utility per agent over the last $\\tau$ rounds of the $m$th simulation.\n",
    "$$Ieq_m=\\frac{1}{\\tau}\\sum_{t=T-\\tau}^{T}\\sqrt{\\frac{1}{N-1}\\sum_{i=1}^N(U_{i,m}(t)-\\bar{U}_m(t))^2}=\\frac{1}{\\tau}\\sum_{t=T-\\tau}^{T}\\sigma_m(t).$$"
   ]
  },
  {
   "cell_type": "code",
   "execution_count": 1073,
   "id": "3047cb47-81f2-4131-84e6-a7f4119b731d",
   "metadata": {},
   "outputs": [],
   "source": [
    "reset_time = 2000\n",
    "tau = 2000 #earn_data.shape[1]-1000"
   ]
  },
  {
   "cell_type": "code",
   "execution_count": 1074,
   "id": "fec2951c-d109-45df-92bb-94ec7ea05d34",
   "metadata": {},
   "outputs": [
    {
     "data": {
      "text/plain": [
       "(601, 2000, 4)"
      ]
     },
     "execution_count": 1074,
     "metadata": {},
     "output_type": "execute_result"
    }
   ],
   "source": [
    "# Slice the last tau steps\n",
    "earn_data = earn_data[:,-tau:,:]\n",
    "earn_data.shape"
   ]
  },
  {
   "cell_type": "code",
   "execution_count": 1075,
   "id": "6faf2e34-058a-47a6-8f8f-71bb29f0f047",
   "metadata": {},
   "outputs": [],
   "source": [
    "def unorm(row):\n",
    "    mx = np.abs(row).max()\n",
    "    N = len(row)\n",
    "    if mx != 0:\n",
    "        return np.array([e/(N*mx) for e in row])\n",
    "    else:\n",
    "        return row\n",
    "\n",
    "def nnorm(row):\n",
    "    N = len(row)\n",
    "    return np.array([e/N for e in row])"
   ]
  },
  {
   "cell_type": "code",
   "execution_count": 1076,
   "id": "b16b1556-749f-4fa9-86d3-5f14b2ccb1bb",
   "metadata": {},
   "outputs": [
    {
     "data": {
      "text/plain": [
       "(601, 2000, 4)"
      ]
     },
     "execution_count": 1076,
     "metadata": {},
     "output_type": "execute_result"
    }
   ],
   "source": [
    "# Scale utility by N\n",
    "utilities = np.array([[e/(reset_time+i) for i, e in enumerate(earnings)] for earnings in earn_data])\n",
    "#utilities = np.array([[nnorm(e) for e in earnings] for earnings in earn_data])\n",
    "utilities.shape"
   ]
  },
  {
   "cell_type": "code",
   "execution_count": 1077,
   "id": "3fe40a36-6f3a-457a-a3a4-e0a361795182",
   "metadata": {},
   "outputs": [
    {
     "data": {
      "text/plain": [
       "(601, 2000, 4)"
      ]
     },
     "execution_count": 1077,
     "metadata": {},
     "output_type": "execute_result"
    }
   ],
   "source": [
    "# Scale utility full\n",
    "n_utilities = np.array([[unorm(e) for e in earnings] for earnings in earn_data])\n",
    "n_utilities.shape"
   ]
  },
  {
   "cell_type": "code",
   "execution_count": 1078,
   "id": "61dea1c6-41fe-4537-a948-86c584d0f0f5",
   "metadata": {},
   "outputs": [],
   "source": [
    "N = utilities.shape[2]"
   ]
  },
  {
   "cell_type": "code",
   "execution_count": 1079,
   "id": "bf3b9942-ab42-41de-9b75-a9fc3a41a6e1",
   "metadata": {},
   "outputs": [
    {
     "data": {
      "text/plain": [
       "(601,)"
      ]
     },
     "execution_count": 1079,
     "metadata": {},
     "output_type": "execute_result"
    }
   ],
   "source": [
    "#Efficiencies\n",
    "efficiencies = np.array([np.array([u.mean() for u in util]).mean() for util in utilities])\n",
    "efficiencies.shape"
   ]
  },
  {
   "cell_type": "code",
   "execution_count": 1080,
   "id": "00e36181-3552-44ed-8f6c-e5950ef409b4",
   "metadata": {},
   "outputs": [],
   "source": [
    "#Inequalities\n",
    "ineq_arrays = [np.array([u.std() for u in util]) for util in utilities]\n",
    "inequalities = [np.array(list_std).mean() for list_std in ineq_arrays]\n",
    "#inequalities"
   ]
  },
  {
   "cell_type": "code",
   "execution_count": 1081,
   "id": "8991d6ee-fa77-4bd8-a29b-8004ae471499",
   "metadata": {},
   "outputs": [],
   "source": [
    "def slope(arr):\n",
    "    return (arr[-1]-arr[1])/(len(arr)-1)\n",
    "\n",
    "av_ineq_slopes = [slope(list_std) for list_std in ineq_arrays]"
   ]
  },
  {
   "cell_type": "code",
   "execution_count": 1082,
   "id": "4c38d0aa-0baf-4d0d-9866-4fff8f673e3d",
   "metadata": {},
   "outputs": [],
   "source": [
    "n_efficiencies = [np.array([u.mean() for u in util]).mean() for util in n_utilities]"
   ]
  },
  {
   "cell_type": "code",
   "execution_count": 1083,
   "id": "d9890189-841e-4b32-af1d-fc55e0967ef6",
   "metadata": {},
   "outputs": [],
   "source": [
    "n_inequalities = [np.array([u.std() for u in util]).mean() for util in n_utilities]"
   ]
  },
  {
   "cell_type": "markdown",
   "id": "304d6962-f715-43f6-af8c-81850c7f4b9a",
   "metadata": {},
   "source": [
    "### Entropy per agent\n",
    "The entropy per agent of the sequence of length $\\tau$ of states of $N$ bits (agents) during simulation $m$ is\n",
    "$$h=-\\frac{1}{N}\\sum_kp_{k}\\log_2p_{k},$$\n",
    "where $p_{k}$ is the probability of finding state $k$ $(1\\leq k\\leq 2^N)$ in the sequence of length $\\tau$ at simulation $m$\n",
    "$$p_{k}=\\frac{n_{k}}{\\sum_{k'}n_{k'}}=\\frac{n_{k}}{\\tau},$$\n",
    "where $n_{k}$ is the number of occurences of state $k$ in the sequence of simulation $m$. \n",
    "\n",
    "[//]: # \"The maximum entropy per agent for a system with $N$ agents is $\\log_2(2^N)/N=1$.\""
   ]
  },
  {
   "cell_type": "code",
   "execution_count": 1084,
   "id": "d88d8e19-659e-4ee0-9f51-14b4796c55d7",
   "metadata": {},
   "outputs": [],
   "source": [
    "def bin_to_dec(b_str):\n",
    "    if len(b_str) > 1:\n",
    "        return int(b_str[0])*2**(len(b_str)-1) + bin_to_dec(b_str[1:])\n",
    "    else:\n",
    "        return int(b_str[0])"
   ]
  },
  {
   "cell_type": "code",
   "execution_count": 1085,
   "id": "bdb3c78a-f451-4bed-9a5c-524f20479613",
   "metadata": {},
   "outputs": [],
   "source": [
    "def dec_to_bin(dec):\n",
    "    if dec > 0:\n",
    "        return dec_to_bin(dec//2) + str(dec%2)\n",
    "    else:\n",
    "        return \"\""
   ]
  },
  {
   "cell_type": "code",
   "execution_count": 1086,
   "id": "4fa01c78-f1e6-4392-a15d-da3b8b2cf593",
   "metadata": {},
   "outputs": [
    {
     "data": {
      "text/plain": [
       "(601, 3001)"
      ]
     },
     "execution_count": 1086,
     "metadata": {},
     "output_type": "execute_result"
    }
   ],
   "source": [
    "#Read state sequences\n",
    "state_bins = []\n",
    "state_data = []\n",
    "for n in range(0,maxN,5):\n",
    "    bins = []\n",
    "    states = []\n",
    "    with open(folder+\"/state_evol_{0:04d}.dat\".format(n), \"r\") as fdata:\n",
    "        for line in fdata:\n",
    "            v = line.split()\n",
    "            bins.append(v[1])\n",
    "            states.append(bin_to_dec(v[1]))\n",
    "    state_bins.append(bins)\n",
    "    state_data.append(states)\n",
    "state_bins = np.array(state_bins)\n",
    "state_data = np.array(state_data)\n",
    "state_data.shape"
   ]
  },
  {
   "cell_type": "code",
   "execution_count": 1087,
   "id": "ea4fd6ae-bfef-499c-8708-6475de42f59f",
   "metadata": {},
   "outputs": [
    {
     "data": {
      "text/plain": [
       "(601, 2000)"
      ]
     },
     "execution_count": 1087,
     "metadata": {},
     "output_type": "execute_result"
    }
   ],
   "source": [
    "#Slice the last tau steps\n",
    "state_data = state_data[:,-tau:]\n",
    "state_data.shape"
   ]
  },
  {
   "cell_type": "code",
   "execution_count": 1088,
   "id": "6561f3e3-fd27-454c-9782-a979463e5ea9",
   "metadata": {},
   "outputs": [
    {
     "data": {
      "text/plain": [
       "(601, 2000)"
      ]
     },
     "execution_count": 1088,
     "metadata": {},
     "output_type": "execute_result"
    }
   ],
   "source": [
    "#Slice the last tau steps\n",
    "state_bins = state_bins[:,-tau:]\n",
    "state_bins.shape"
   ]
  },
  {
   "cell_type": "code",
   "execution_count": 1089,
   "id": "2662e516-27a9-4bfa-a768-953d594834d1",
   "metadata": {},
   "outputs": [],
   "source": [
    "#Compute the distributions\n",
    "def comp_dist(sequence, N):\n",
    "    #dist = np.zeros(2**N)\n",
    "    dist = {}\n",
    "    tot = 0\n",
    "    for seq in sequence:\n",
    "        dist[seq] = dist.get(seq, 0) + 1\n",
    "        tot += 1\n",
    "    for i in dist:\n",
    "        dist[i] /= tot\n",
    "    return dist\n",
    "\n",
    "#Compute the entropy per agent\n",
    "def entropy(distribution, N):\n",
    "    h = 0\n",
    "    for i in distribution:\n",
    "        p = distribution[i]\n",
    "        h -= p * np.log2(p)\n",
    "    return h/N"
   ]
  },
  {
   "cell_type": "code",
   "execution_count": 1090,
   "id": "24959ee6-9053-46d8-92a3-e245b303327f",
   "metadata": {},
   "outputs": [],
   "source": [
    "#Entropies\n",
    "entropies = [entropy(comp_dist(states, N), N) for states in state_data]\n",
    "#entropies"
   ]
  },
  {
   "cell_type": "markdown",
   "id": "d2006395-9da5-4d56-8c64-c8a95d8976f4",
   "metadata": {},
   "source": [
    "### Conditional entropy (normalized)\n",
    "The joint probability of state $X$ being $k$ at $t$ and $k$ at $t+1$ is\n",
    "$$p(X_{t+1}=k',X_t=k)=\\frac{n_{k,k'}}{\\sum_{l,l'}n_{l,l'}},$$\n",
    "while the conditional probability is\n",
    "$$p(X_{t+1}=k'|X_t=k)=\\frac{p(X_{t+1}=k',X_t=k)}{p(X_t=k)}=\\frac{n_{k,k'}}{\\sum_{l,l'}n_{l,l'}}\\frac{\\sum_ln_l}{n_k}=\\frac{\\tau}{\\tau-1}\\frac{n_{k,k'}}{n_k}.$$\n",
    "The conditional entropy is given by\n",
    "$$h_c=-\\frac{1}{N}\\sum_{k,k'}p(X_{t+1}=k',X_t=k)\\log_2p(X_{t+1}=k'|X_t=k)=-\\frac{1}{N}\\sum_{k,k'}\\frac{n_{k,k'}}{\\tau-1}\\log_2\\left(\\frac{\\tau}{\\tau-1}\\frac{n_{k,k'}}{n_k}\\right),$$\n",
    "where $n_{k,k'}$ is the number of transitions from $k$ to $k'$, $n_k$ the number of occurrances of state $k$, and $\\tau$ is the length of the simulation."
   ]
  },
  {
   "cell_type": "code",
   "execution_count": 1091,
   "id": "4b601fef-06fb-48d5-9955-ca53a54408e4",
   "metadata": {},
   "outputs": [
    {
     "data": {
      "text/plain": [
       "(601, 1999)"
      ]
     },
     "execution_count": 1091,
     "metadata": {},
     "output_type": "execute_result"
    }
   ],
   "source": [
    "seq_pairs = []\n",
    "for n in range(state_bins.shape[0]):\n",
    "    pairs = []\n",
    "    for i in range(state_bins.shape[1]-1):\n",
    "        pair = state_bins[n,i]+state_bins[n,i+1]\n",
    "        pairs.append(bin_to_dec(pair))\n",
    "    seq_pairs.append(pairs)\n",
    "seq_pairs = np.array(seq_pairs)\n",
    "seq_pairs.shape"
   ]
  },
  {
   "cell_type": "code",
   "execution_count": 1092,
   "id": "1a349b07-738d-4e5e-a27d-5cb18b0775ad",
   "metadata": {},
   "outputs": [],
   "source": [
    "def comp_trans_dist(pair_sequence, N):\n",
    "    pair_dist = {}\n",
    "    tot = 0\n",
    "    for seq in pair_sequence:\n",
    "        pair_dist[seq] = pair_dist.get(seq, 0) + 1\n",
    "        tot += 1\n",
    "    for i in pair_dist:\n",
    "        pair_dist[i] /= tot\n",
    "    return pair_dist\n",
    "\n",
    "def cond_entropy(distribution, pair_distribution, N):\n",
    "    Hc = 0\n",
    "    for i in pair_distribution:\n",
    "        pbin = dec_to_bin(i)\n",
    "        bk = pbin.zfill(2*N)[:N] #first N binary digits\n",
    "        k = bin_to_dec(bk)\n",
    "        p = distribution[k]\n",
    "        pp = pair_distribution[i]\n",
    "        if p > 0 and pp > 0:\n",
    "            Hc -= pp * np.log2(pp/p)\n",
    "    return Hc/N"
   ]
  },
  {
   "cell_type": "code",
   "execution_count": 1093,
   "id": "af62ea38-9c4d-487b-a080-ad62cfa83199",
   "metadata": {},
   "outputs": [],
   "source": [
    "#dist = comp_dist(state_data[0], N)\n",
    "#pair_dist = comp_trans_dist(seq_pairs[0], N)"
   ]
  },
  {
   "cell_type": "code",
   "execution_count": 1094,
   "id": "344fc6ca-bdf7-470b-9098-75b620c5c2f9",
   "metadata": {},
   "outputs": [],
   "source": [
    "#for i in range(len(dist)):\n",
    "#    if dist[i] > 0:\n",
    "#        print(dec_to_bin(i).zfill(N), dist[i])"
   ]
  },
  {
   "cell_type": "code",
   "execution_count": 1095,
   "id": "48f17589-4328-418c-bd4a-ade0397c2099",
   "metadata": {},
   "outputs": [],
   "source": [
    "#for i in range(len(pair_dist)):\n",
    "#    if pair_dist[i] > 0:\n",
    "#        print(dec_to_bin(i).zfill(2*N), pair_dist[i])"
   ]
  },
  {
   "cell_type": "code",
   "execution_count": 1096,
   "id": "bf2ef2cc-c1d7-480a-9034-eaeac3360fba",
   "metadata": {},
   "outputs": [],
   "source": [
    "#cond_entropy(dist, pair_dist)"
   ]
  },
  {
   "cell_type": "code",
   "execution_count": 1097,
   "id": "ea8f0023-f609-415c-a27e-21ce3313c78d",
   "metadata": {},
   "outputs": [],
   "source": [
    "#comp_dist(state_data[0], N)"
   ]
  },
  {
   "cell_type": "code",
   "execution_count": 1098,
   "id": "40a9b21a-2aea-4ac6-8bd0-26befec8b493",
   "metadata": {},
   "outputs": [],
   "source": [
    "#comp_trans_dist(seq_pairs[0], N)"
   ]
  },
  {
   "cell_type": "code",
   "execution_count": 1099,
   "id": "3e24266a-3341-4233-83b6-bd5e3e482d70",
   "metadata": {
    "scrolled": true
   },
   "outputs": [],
   "source": [
    "#Conditional entropies\n",
    "cond_entropies = np.array([cond_entropy(comp_dist(states, N), comp_trans_dist(pair_st, N), N) for states, pair_st in zip(state_data,seq_pairs)])\n",
    "cond_entropies = np.clip(cond_entropies,0,100)"
   ]
  },
  {
   "cell_type": "code",
   "execution_count": 1100,
   "id": "3cbd8110-3431-4d41-8d22-41d0d79a1f06",
   "metadata": {},
   "outputs": [
    {
     "data": {
      "text/plain": [
       "np.float64(0.09885314692656247)"
      ]
     },
     "execution_count": 1100,
     "metadata": {},
     "output_type": "execute_result"
    }
   ],
   "source": [
    "cond_entropies.max()"
   ]
  },
  {
   "cell_type": "markdown",
   "id": "bc7314d8-e773-46ba-aecd-b865b4771b54",
   "metadata": {},
   "source": [
    "### Frequency\n",
    "Frequency with wich a state pattern repeats in the time series. The frequency is computed as the inverse of the period thet the pattern presents. This parameter is not well defined when the system does not reach a steady pattern, which can happen when the agents have an exploration parameter that might supersede the expected payoff value."
   ]
  },
  {
   "cell_type": "code",
   "execution_count": 1101,
   "id": "5ca3497c-53a8-41ec-85ef-28fd2c149813",
   "metadata": {},
   "outputs": [],
   "source": [
    "##The fft is not getting the correct frequencies in several cases, in particular is  period>3\n",
    "#def get_highest_freq(series):\n",
    "#    X = fft(series)\n",
    "#    sr = 1     #sampling rate (1 state every time step)\n",
    "#    N = len(X)\n",
    "#    n = np.arange(N)\n",
    "#    T = N/sr\n",
    "#   freq = n/T\n",
    "#   return freq[list(np.abs(X[1:])).index(max(np.abs(X[1:int(N/2)])))]\n",
    "\n",
    "def get_period(series, j):\n",
    "    if j >= len(series): print(j) ######\n",
    "    test = True\n",
    "    count = 1\n",
    "    while test:\n",
    "        val = series[j]\n",
    "        #print(val)\n",
    "        prev_val = val\n",
    "        count = 1\n",
    "        for i in range(j+1,len(series)):\n",
    "            if (series[i] == val) or (series[i] == prev_val) or (j+1==len(series)):\n",
    "                test = False\n",
    "                break\n",
    "            #print(series[i])\n",
    "            count += 1\n",
    "            prev_val = series[i]\n",
    "        j += 1\n",
    "    return count"
   ]
  },
  {
   "cell_type": "code",
   "execution_count": 1102,
   "id": "3f7dccb1-74ca-4d30-b9ce-4ca02b7c4a07",
   "metadata": {
    "scrolled": true
   },
   "outputs": [],
   "source": [
    "#Frequencies\n",
    "frequencies = [1/get_period(states,1) for states in state_data]\n",
    "#frequencies"
   ]
  },
  {
   "cell_type": "code",
   "execution_count": 1103,
   "id": "755bc6f9-35ab-4899-8d93-441dcb839c79",
   "metadata": {},
   "outputs": [],
   "source": [
    "#for i in range(len(frequencies)):\n",
    "#    if frequencies[i] == 0:\n",
    "#       print(state_data[i])"
   ]
  },
  {
   "cell_type": "markdown",
   "id": "0c194627-8374-4218-a722-f9d93b3d1e10",
   "metadata": {},
   "source": [
    "### Information per agent\n",
    "Every agent develops a strategy to choose its next action given its knowledge of the previous state. This strategy is stored in its transition matrix and utility function. However, some strategies might be simple and depend on little to no knowledge as, for example, the strategy to follow always the same action irrespective of the previous state. Other strategies might be more complex, and depend on the knowledge of a finite number of bits from the previous state.</b>\n",
    "\n",
    "The information per agent of a particular simulation refers to the average number of bits per agent necessary to follow the strategy the agents have adopted. As in some cases, as when using exploration, the system does not acheive a steady state and there is no fixed pattern that allows us to deduce the specific strategies of the agents. because this pattern might change in time it is necessary to do a sampling of the data. Each sample consists in randomly choosing a point in the series and obtaining the pattern that follows, by counting states until we find the initial state again (a cycle). With the obtained pattern we can then extract the strategies of the agents and compute the average information needed to sustain the pattern. This proces is repeated several times and an average is obtained."
   ]
  },
  {
   "cell_type": "code",
   "execution_count": 1104,
   "id": "3cc48f7d-d2a3-44d1-836c-87979ada74f5",
   "metadata": {},
   "outputs": [
    {
     "data": {
      "text/plain": [
       "(601, 4, 4)"
      ]
     },
     "execution_count": 1104,
     "metadata": {},
     "output_type": "execute_result"
    }
   ],
   "source": [
    "neighbors = []\n",
    "for n in range(0,maxN,5):\n",
    "    neigh = []\n",
    "    with open(folder+\"/known_idx_{0:04d}.dat\".format(n), \"r\") as fdata:\n",
    "        for line in fdata:\n",
    "            v = list(map(int,line.split()))\n",
    "            neigh.append(v[1:])\n",
    "    neighbors.append(neigh)\n",
    "neighbors = np.array(neighbors)\n",
    "neighbors.shape"
   ]
  },
  {
   "cell_type": "code",
   "execution_count": 1105,
   "id": "36e34c12-db21-4c70-a1ea-e18ac6ec7f13",
   "metadata": {},
   "outputs": [],
   "source": [
    "def get_pattern(data, j):\n",
    "    p = get_period(data, j)\n",
    "    mx = min(j+p,len(data))\n",
    "    pat = data[j:mx]\n",
    "    pattern = {}\n",
    "    for i in range(len(pat[0])):\n",
    "        pattern[i] = [pat[j][i] for j in range(len(pat))]\n",
    "    return pattern\n",
    "\n",
    "def filter_pattern(pattern, f):\n",
    "    f_pat = {}\n",
    "    for i in pattern.keys():\n",
    "        if f[i]:\n",
    "            f_pat[i] = pattern[i]\n",
    "    return f_pat\n",
    "\n",
    "def combinations(n, k):\n",
    "    combos = []\n",
    "    if (k == 0):\n",
    "        return [[]]\n",
    "    elif (k == 1):\n",
    "        return [[i] for i in n] \n",
    "    for i in range(len(n)): \n",
    "        head = n[i:i+1]\n",
    "\n",
    "        tail = combinations(n[i+1:],k-1)\n",
    "\n",
    "        for j in range(len(tail)):\n",
    "            #print(\"tail[j]\", tail[j])\n",
    "            if (type(tail[j]) == int):\n",
    "                combo = head + [tail[j]]\n",
    "            else:\n",
    "                combo = head + tail[j]\n",
    "            combos.append(combo)   \n",
    "    return combos\n",
    "\n",
    "def get_strategy(pattern, idx, known_idx):\n",
    "    my_neighb = np.delete(known_idx[idx],np.where(known_idx[idx]==idx)[0]).tolist()\n",
    "    N = len(pattern)\n",
    "    l = len(pattern[idx])\n",
    "    #print(my_neighb)\n",
    "\n",
    "    for Nneigh in range(0,len(my_neighb)+1):\n",
    "        neighb_lists = combinations(my_neighb, Nneigh)\n",
    "        neighb_lists = [[idx] + nl for nl in neighb_lists]\n",
    "        #print(neighb_lists)\n",
    "        \n",
    "        for n in neighb_lists:\n",
    "            columns = sorted(n)\n",
    "            mask = [(i in columns) for i in range(N)]\n",
    "            f_pat = filter_pattern(pattern, mask)\n",
    "            \n",
    "            #print(f_pat)\n",
    "            strat = {}\n",
    "            test = True\n",
    "            for i in range(l):\n",
    "                p = ''.join(f_pat[a][i] for a in columns)\n",
    "                #print(p)\n",
    "                if p not in strat:\n",
    "                    strat[p] = f_pat[idx][(i+1)%l]\n",
    "                else:\n",
    "                    if strat[p] != f_pat[idx][(i+1)%l]:\n",
    "                        test = False\n",
    "                        break\n",
    "                test = True\n",
    "        \n",
    "            if test:   \n",
    "                return tuple(columns), strat\n",
    "    return None  #If the output is None, then most likely there is no stable pattern\n"
   ]
  },
  {
   "cell_type": "code",
   "execution_count": 1106,
   "id": "9080a5cf-5600-4f65-b95b-3ced87bd8c7f",
   "metadata": {
    "scrolled": true
   },
   "outputs": [],
   "source": [
    "# for NNN in range(state_data.shape[0]):\n",
    "#    pat = get_pattern(state_bins[NNN], 1)\n",
    "#    print(pat)\n",
    "#    print(neighbors[NNN])\n",
    "#    strat = get_strategy(pat, 0, neighbors[NNN])\n",
    "#    min_bits = 1000\n",
    "#    if strat:\n",
    "#        print(strat)\n",
    "#        min_bits = len(strat[0]) if len(strat[1]) > 1 else 0\n",
    "#    else:\n",
    "#        print(\"Most likely there is no stable pattern\")\n",
    "#    print(min_bits)\n",
    "#    print()"
   ]
  },
  {
   "cell_type": "code",
   "execution_count": 1107,
   "id": "b28050ad-9877-4fd1-a9d4-4d822383aa89",
   "metadata": {},
   "outputs": [],
   "source": [
    "#NNN = 0\n",
    "#ini_t = 20\n",
    "#pat = get_pattern(state_bins[NNN], ini_t)\n",
    "#print(pat)\n",
    "#print(neighbors[NNN])\n",
    "#for i in range(N):\n",
    "#    strat = get_strategy(pat, i, neighbors[NNN])\n",
    "#    min_bits = 1000\n",
    "#    if strat:\n",
    "#        print(strat)\n",
    "#        min_bits = len(strat[0]) if len(strat[1]) > 1 else 0\n",
    "#    else:\n",
    "#        print(\"Most likely there is no stable pattern\")\n",
    "#    print(min_bits)\n",
    "#print()"
   ]
  },
  {
   "cell_type": "code",
   "execution_count": 1108,
   "id": "f9780617-c388-45a7-9fb2-acb2a24a4017",
   "metadata": {},
   "outputs": [],
   "source": [
    "#ar = np.array([[0 for i in range(2**N)] for j in range(2**N)])\n",
    "#ar[]"
   ]
  },
  {
   "cell_type": "code",
   "execution_count": 1109,
   "id": "fdb484d5-e6dd-4d7d-8d95-d08977d0a4ea",
   "metadata": {},
   "outputs": [],
   "source": [
    "def av_min_info(state, neighbors, N, M):\n",
    "    mx = len(state)/3 #int(2**N)\n",
    "    tot_av = 0\n",
    "    for m in range(M):\n",
    "        av = 0\n",
    "        idx = np.random.randint(1,len(state)-mx)\n",
    "        pattern = get_pattern(state, idx)\n",
    "        for i in pattern.keys():\n",
    "            strat = get_strategy(pattern,i,neighbors)\n",
    "            if strat:\n",
    "                av += len(strat[0]) if len(strat[1]) > 1 else 0\n",
    "            else:\n",
    "                #print(pattern)\n",
    "                av += 1000\n",
    "        av /= len(pattern)\n",
    "        tot_av += av\n",
    "    return tot_av/M"
   ]
  },
  {
   "cell_type": "code",
   "execution_count": 1110,
   "id": "b3e78a86-a496-41ae-95d7-019fe1fe04e6",
   "metadata": {
    "scrolled": true
   },
   "outputs": [],
   "source": [
    "#Information per agent\n",
    "M = 10 #No. of samples\n",
    "info_per_agent = [av_min_info(state_bins[i],neighbors[i],N,M) for i in range(len(state_bins))]\n",
    "#info_per_agent"
   ]
  },
  {
   "cell_type": "code",
   "execution_count": 1111,
   "id": "bf435f3d-9844-4c20-a4ee-32e20df9090f",
   "metadata": {},
   "outputs": [],
   "source": [
    "## Read transition matrices\n",
    "#lineN = 500\n",
    "#mats = []\n",
    "#for i in range(N):\n",
    "#    with open(folder+\"/matrix_evol_{0}_{1:04d}.dat\".format(i,5*NNN), \"r\") as fdata:\n",
    "#        for line in fdata:\n",
    "#            v = list(map(float,line.split()))\n",
    "#            if v[0] == lineN:\n",
    "#                mats.append(np.asarray(v[1:]).reshape(2**N,2**N))       \n",
    "#            else:\n",
    "#                pass"
   ]
  },
  {
   "cell_type": "code",
   "execution_count": 1112,
   "id": "60c5994e-4ac6-484d-9c91-8d16222af0be",
   "metadata": {},
   "outputs": [],
   "source": [
    "#rounded_mats = []\n",
    "#for i in range(N):\n",
    "#    rounded_mats.append(np.round(mats[i],decimals=2))\n",
    "#print(rounded_mats[0])"
   ]
  },
  {
   "cell_type": "code",
   "execution_count": 1113,
   "id": "b469790a-cb2d-470b-b71d-a91c9c870953",
   "metadata": {},
   "outputs": [],
   "source": [
    "#tags = {}\n",
    "#for i in range(2**N):\n",
    "#    bins = dec_to_bin(i).rjust(N,'0')\n",
    "#    tags[i] = bins\n",
    "#tags"
   ]
  },
  {
   "cell_type": "code",
   "execution_count": 1114,
   "id": "25f72862-ab67-4784-b1a1-b48bbc0ca87c",
   "metadata": {},
   "outputs": [],
   "source": [
    "## For each agent add the rows with the same state\n",
    "#contracted_rows = []\n",
    "#for i in range(N):\n",
    "#    cr = [0 for a in range(2**N)]\n",
    "#    for j in range(2**N):\n",
    "#        cr += rounded_mats[i][j,:]\n",
    "#    contracted_rows.append(cr)"
   ]
  },
  {
   "cell_type": "code",
   "execution_count": 1115,
   "id": "a8f22518-261d-4489-b9e4-ca3ba98e80bd",
   "metadata": {},
   "outputs": [],
   "source": [
    "#contracted_rows[0]"
   ]
  },
  {
   "cell_type": "markdown",
   "id": "3134d01b-ca0f-4957-8857-2888db7b48e3",
   "metadata": {},
   "source": [
    "### Inter-agent entropy\n",
    "In a single round of a simulation, measures the entropy of the binary states of the agents."
   ]
  },
  {
   "cell_type": "code",
   "execution_count": 1116,
   "id": "036b6b95-a942-471b-8582-13c0abd9b1e0",
   "metadata": {},
   "outputs": [],
   "source": [
    "#Compute the entropy per agent\n",
    "def entropy_i(bin_state):\n",
    "    N = len(bin_state[0])\n",
    "    H_ac = 0\n",
    "    for s in bin_state[1:]:\n",
    "        p_zeros = s.count('0')/N\n",
    "        p_ones = s.count('1')/N\n",
    "        if p_zeros != 0 and p_ones != 0:\n",
    "            H_ac += -p_zeros*np.log2(p_zeros)-p_ones*np.log2(p_ones)\n",
    "    return H_ac/len(bin_state)"
   ]
  },
  {
   "cell_type": "code",
   "execution_count": 1117,
   "id": "cf38b9dc-8223-495f-8b35-5488300331f1",
   "metadata": {},
   "outputs": [],
   "source": [
    "iagent_entropy = [entropy_i(s) for s in state_bins]\n",
    "#iagent_entropy"
   ]
  },
  {
   "cell_type": "markdown",
   "id": "9bf565eb-01de-42b7-8811-a5d4171a28b3",
   "metadata": {},
   "source": [
    "### Percentage of rounds with max efficiency "
   ]
  },
  {
   "cell_type": "code",
   "execution_count": 1118,
   "id": "79090284-efd1-4c00-b5c9-29a6ad4dee1e",
   "metadata": {
    "scrolled": true
   },
   "outputs": [],
   "source": [
    "max_eff_percent = []\n",
    "for ls in state_bins:\n",
    "    num = 0\n",
    "    for s in ls:\n",
    "        if np.sum(list(map(int,list(s)))) == Amx:\n",
    "            num += 1\n",
    "    max_eff_percent.append(num/len(ls))"
   ]
  },
  {
   "cell_type": "markdown",
   "id": "afc4513a-1d5e-4c09-acbe-9ef9de615f89",
   "metadata": {},
   "source": [
    "### Save parameters"
   ]
  },
  {
   "cell_type": "code",
   "execution_count": 1119,
   "id": "2b50573d-74c3-40ea-bf9d-f00e7ffc4b2d",
   "metadata": {},
   "outputs": [],
   "source": [
    "with open(outfile, \"w\") as fout:\n",
    "    for i in range(state_data.shape[0]):\n",
    "        fout.write(\"{0} {1} {2} {3} {4} {5} {6} {7} {8} {9} {10} {11}\\n\".format(i,efficiencies[i],inequalities[i],n_efficiencies[i],\n",
    "                                                                                n_inequalities[i],entropies[i],cond_entropies[i],\n",
    "                                                                                frequencies[i],info_per_agent[i],iagent_entropy[i],\n",
    "                                                                                av_ineq_slopes[i],max_eff_percent[i]))"
   ]
  },
  {
   "cell_type": "code",
   "execution_count": 1120,
   "id": "0af1366e-747d-4e71-aafe-6f8af2b6a61d",
   "metadata": {},
   "outputs": [],
   "source": [
    "#for i in range(len(efficiencies)):\n",
    "#    if inequalities[i] < 1.e-3:\n",
    "#        print(state_data[i])\n",
    "#        print(utilities[i])"
   ]
  },
  {
   "cell_type": "markdown",
   "id": "dfefc473-aeca-4ae9-bc69-c1421cdd6a42",
   "metadata": {},
   "source": [
    "# Transfer entropy\n",
    "The transfer entropy from time series $I=(i_0,i_1,\\dots,i_n,\\dots)$ to time reries $J=(j_0,j_1,\\dots,j_n,\\dots)$ is defined as [Measuring Information Transfer, T. Shreiber, 2008]\n",
    "$$T_{I\\rightarrow J}=\\sum p(i_{n+1},i_n^{(k)},j_n^{(l)})\\log\\frac{p(i_{n+1}|i_n^{(k)},j_n^{(l)})}{p(i_{n+1}|i_n^{(k)})},$$\n",
    "where $i_n^{(k)}=(i_n,i_{n-1},\\dots,i_{n-k+1})$, and $k$, $l$ are the memory (correlation) lengths of $I$ and $J$ respectively. For a Markovian dynamics $k=l=1$. "
   ]
  }
 ],
 "metadata": {
  "kernelspec": {
   "display_name": "Python 3 (ipykernel)",
   "language": "python",
   "name": "python3"
  },
  "language_info": {
   "codemirror_mode": {
    "name": "ipython",
    "version": 3
   },
   "file_extension": ".py",
   "mimetype": "text/x-python",
   "name": "python",
   "nbconvert_exporter": "python",
   "pygments_lexer": "ipython3",
   "version": "3.12.3"
  }
 },
 "nbformat": 4,
 "nbformat_minor": 5
}
