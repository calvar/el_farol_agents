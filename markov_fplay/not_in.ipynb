{
 "cells": [
  {
   "cell_type": "markdown",
   "id": "55192f6f-af55-4564-9078-22d969ad16d9",
   "metadata": {},
   "source": [
    "Which points in infile2 are not in infile1"
   ]
  },
  {
   "cell_type": "code",
   "execution_count": 5,
   "id": "93369457-dbfc-4bbb-8d65-181db18db5e2",
   "metadata": {},
   "outputs": [],
   "source": [
    "import numpy as np"
   ]
  },
  {
   "cell_type": "code",
   "execution_count": 6,
   "id": "0c1d0c26-cf98-43e3-aa46-0fc8dce31ea9",
   "metadata": {},
   "outputs": [],
   "source": [
    "infile1 = 'simulation_params_p4.dat'\n",
    "infile2 = 'simulation_params_p2.dat'"
   ]
  },
  {
   "cell_type": "code",
   "execution_count": 9,
   "id": "1f6a09fb-24e4-4df9-b1e1-c9d2bdb8d647",
   "metadata": {},
   "outputs": [],
   "source": [
    "eff_idx = 1\n",
    "inq_idx = 2\n",
    "neff_idx = 3\n",
    "ninq_idx = 4\n",
    "ent_idx = 5\n",
    "frq_idx = 6"
   ]
  },
  {
   "cell_type": "code",
   "execution_count": 14,
   "id": "798c4d77-c441-41c7-b901-671d139c94a8",
   "metadata": {},
   "outputs": [],
   "source": [
    "data1 = []\n",
    "with open(infile1, \"r\") as inf1:\n",
    "    for line in inf1:\n",
    "        v = list(map(float, line.split()))\n",
    "        data1.append(v)\n",
    "data1 = np.array(data1)"
   ]
  },
  {
   "cell_type": "code",
   "execution_count": 11,
   "id": "69be0104-aa95-4d56-813d-633989d6f7ca",
   "metadata": {},
   "outputs": [],
   "source": [
    "data2 = []\n",
    "with open(infile2, \"r\") as inf2:\n",
    "    for line in inf2:\n",
    "        v = list(map(float, line.split()))\n",
    "        data2.append(v)\n",
    "data2 = np.array(data2)"
   ]
  },
  {
   "cell_type": "code",
   "execution_count": 48,
   "id": "01dae2fc-1069-44a7-b556-e5340319a75a",
   "metadata": {},
   "outputs": [],
   "source": [
    "def is_in(theset, x, epsilon):\n",
    "    for y in theset:\n",
    "        dist = np.sqrt(((y[3:6]-x[3:6])**2).sum())\n",
    "        if dist < epsilon:\n",
    "            return True\n",
    "    return False"
   ]
  },
  {
   "cell_type": "code",
   "execution_count": 52,
   "id": "8e96ef02-900c-4f20-9142-1ec95cc68ff0",
   "metadata": {},
   "outputs": [
    {
     "name": "stdout",
     "output_type": "stream",
     "text": [
      "31 [0.03139282 0.13611005 0.64609536]\n",
      "98 [-0.06262709  0.10817982  0.25      ]\n",
      "101 [0.15625    0.05412659 0.        ]\n",
      "113 [-0.125       0.21650635  0.        ]\n",
      "196 [-0.125       0.21650635  0.        ]\n",
      "225 [0.09390535 0.10353662 0.64609536]\n",
      "229 [0.20821337 0.0416597  0.64609536]\n",
      "249 [0.15625    0.05412659 0.        ]\n",
      "305 [0.09378495 0.10365668 0.64609536]\n",
      "308 [0.14564035 0.09076632 0.64609536]\n",
      "349 [0.02083333 0.1366133  0.        ]\n",
      "439 [-0.06245761  0.10827766  0.25      ]\n",
      "468 [0.1459185  0.09082998 0.64609536]\n",
      "479 [0.14573432 0.09086547 0.64609536]\n",
      "524 [-0.06254236  0.10822873  0.25      ]\n",
      "591 [-0.06254236  0.10822873  0.25      ]\n"
     ]
    }
   ],
   "source": [
    "for i in range(len(data2)):\n",
    "    if not is_in(data1,data2[i],1.e-2):\n",
    "        print(i,data2[i][3:6])"
   ]
  },
  {
   "cell_type": "code",
   "execution_count": 56,
   "id": "736bce84-75b4-4c8c-8884-1de68eb62c08",
   "metadata": {},
   "outputs": [
    {
     "data": {
      "text/plain": [
       "155"
      ]
     },
     "execution_count": 56,
     "metadata": {},
     "output_type": "execute_result"
    }
   ],
   "source": [
    "seed = 5 * 31\n",
    "seed"
   ]
  },
  {
   "cell_type": "code",
   "execution_count": 54,
   "id": "571caf4d-e574-4fef-bc12-cbd13046b20a",
   "metadata": {},
   "outputs": [
    {
     "data": {
      "text/plain": [
       "np.float64(0.646240625180289)"
      ]
     },
     "execution_count": 54,
     "metadata": {},
     "output_type": "execute_result"
    }
   ],
   "source": [
    "np.log2(6)/4"
   ]
  }
 ],
 "metadata": {
  "kernelspec": {
   "display_name": "venv",
   "language": "python",
   "name": "venv"
  },
  "language_info": {
   "codemirror_mode": {
    "name": "ipython",
    "version": 3
   },
   "file_extension": ".py",
   "mimetype": "text/x-python",
   "name": "python",
   "nbconvert_exporter": "python",
   "pygments_lexer": "ipython3",
   "version": "3.10.12"
  }
 },
 "nbformat": 4,
 "nbformat_minor": 5
}
